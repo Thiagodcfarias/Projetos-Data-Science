{
 "cells": [
  {
   "cell_type": "markdown",
   "metadata": {},
   "source": [
    "# Analisando os dados dos sites da globo usando bag of words"
   ]
  },
  {
   "cell_type": "code",
   "execution_count": 64,
   "metadata": {},
   "outputs": [],
   "source": [
    "import warnings\n",
    "warnings.filterwarnings('ignore')\n",
    "\n",
    "import pandas as pd\n",
    "\n",
    "df = pd.read_csv('C:\\\\Users\\\\samsung\\\\Desktop\\\\df_sites_globo2.csv')"
   ]
  },
  {
   "cell_type": "code",
   "execution_count": 65,
   "metadata": {},
   "outputs": [
    {
     "data": {
      "text/html": [
       "<div>\n",
       "<style scoped>\n",
       "    .dataframe tbody tr th:only-of-type {\n",
       "        vertical-align: middle;\n",
       "    }\n",
       "\n",
       "    .dataframe tbody tr th {\n",
       "        vertical-align: top;\n",
       "    }\n",
       "\n",
       "    .dataframe thead th {\n",
       "        text-align: right;\n",
       "    }\n",
       "</style>\n",
       "<table border=\"1\" class=\"dataframe\">\n",
       "  <thead>\n",
       "    <tr style=\"text-align: right;\">\n",
       "      <th></th>\n",
       "      <th>Unnamed: 0</th>\n",
       "      <th>url</th>\n",
       "      <th>titulo</th>\n",
       "      <th>conteudo</th>\n",
       "    </tr>\n",
       "  </thead>\n",
       "  <tbody>\n",
       "    <tr>\n",
       "      <th>0</th>\n",
       "      <td>0</td>\n",
       "      <td>https://g1.globo.com/globonews/globonews-docum...</td>\n",
       "      <td>\"fevereiros\" revela as origens de maria bethân...</td>\n",
       "      <td>O documentário, parceria entre GloboNews e Glo...</td>\n",
       "    </tr>\n",
       "    <tr>\n",
       "      <th>1</th>\n",
       "      <td>0</td>\n",
       "      <td>https://g1.globo.com/globonews/jornal-globonew...</td>\n",
       "      <td>george w. bush parabeniza biden e harris pela ...</td>\n",
       "      <td>O ex-presidente americano, o republicano Georg...</td>\n",
       "    </tr>\n",
       "    <tr>\n",
       "      <th>2</th>\n",
       "      <td>0</td>\n",
       "      <td>https://g1.globo.com/globonews/fatos-e-versoes...</td>\n",
       "      <td>taxação do aço brasileiro pelos eua causa surp...</td>\n",
       "      <td>A recente taxação do aço brasileiro por parte ...</td>\n",
       "    </tr>\n",
       "    <tr>\n",
       "      <th>3</th>\n",
       "      <td>0</td>\n",
       "      <td>https://g1.globo.com/globonews/globonews-docum...</td>\n",
       "      <td>'documentário 24h em wuhan' mostra a realidade...</td>\n",
       "      <td>Equipe de uma TV chinesa percorreu o local e m...</td>\n",
       "    </tr>\n",
       "    <tr>\n",
       "      <th>4</th>\n",
       "      <td>0</td>\n",
       "      <td>https://g1.globo.com/globonews/jornal-das-dez/...</td>\n",
       "      <td>guga chacra comenta discurso de joe biden ‘um ...</td>\n",
       "      <td>Democrata Joe Biden discursou em Wilmington, n...</td>\n",
       "    </tr>\n",
       "  </tbody>\n",
       "</table>\n",
       "</div>"
      ],
      "text/plain": [
       "   Unnamed: 0                                                url  \\\n",
       "0           0  https://g1.globo.com/globonews/globonews-docum...   \n",
       "1           0  https://g1.globo.com/globonews/jornal-globonew...   \n",
       "2           0  https://g1.globo.com/globonews/fatos-e-versoes...   \n",
       "3           0  https://g1.globo.com/globonews/globonews-docum...   \n",
       "4           0  https://g1.globo.com/globonews/jornal-das-dez/...   \n",
       "\n",
       "                                              titulo  \\\n",
       "0  \"fevereiros\" revela as origens de maria bethân...   \n",
       "1  george w. bush parabeniza biden e harris pela ...   \n",
       "2  taxação do aço brasileiro pelos eua causa surp...   \n",
       "3  'documentário 24h em wuhan' mostra a realidade...   \n",
       "4  guga chacra comenta discurso de joe biden ‘um ...   \n",
       "\n",
       "                                            conteudo  \n",
       "0  O documentário, parceria entre GloboNews e Glo...  \n",
       "1  O ex-presidente americano, o republicano Georg...  \n",
       "2  A recente taxação do aço brasileiro por parte ...  \n",
       "3  Equipe de uma TV chinesa percorreu o local e m...  \n",
       "4  Democrata Joe Biden discursou em Wilmington, n...  "
      ]
     },
     "execution_count": 65,
     "metadata": {},
     "output_type": "execute_result"
    }
   ],
   "source": [
    "df.head()"
   ]
  },
  {
   "cell_type": "code",
   "execution_count": 66,
   "metadata": {},
   "outputs": [
    {
     "name": "stdout",
     "output_type": "stream",
     "text": [
      "0 0\n"
     ]
    }
   ],
   "source": [
    "print(df.titulo.isnull().sum(),df.url.isnull().sum())"
   ]
  },
  {
   "cell_type": "code",
   "execution_count": 67,
   "metadata": {},
   "outputs": [
    {
     "data": {
      "text/plain": [
       "(1500, 4)"
      ]
     },
     "execution_count": 67,
     "metadata": {},
     "output_type": "execute_result"
    }
   ],
   "source": [
    "df.shape"
   ]
  },
  {
   "cell_type": "code",
   "execution_count": 68,
   "metadata": {},
   "outputs": [
    {
     "data": {
      "text/html": [
       "<div>\n",
       "<style scoped>\n",
       "    .dataframe tbody tr th:only-of-type {\n",
       "        vertical-align: middle;\n",
       "    }\n",
       "\n",
       "    .dataframe tbody tr th {\n",
       "        vertical-align: top;\n",
       "    }\n",
       "\n",
       "    .dataframe thead th {\n",
       "        text-align: right;\n",
       "    }\n",
       "</style>\n",
       "<table border=\"1\" class=\"dataframe\">\n",
       "  <thead>\n",
       "    <tr style=\"text-align: right;\">\n",
       "      <th></th>\n",
       "      <th>url</th>\n",
       "      <th>titulo</th>\n",
       "      <th>conteudo</th>\n",
       "    </tr>\n",
       "  </thead>\n",
       "  <tbody>\n",
       "    <tr>\n",
       "      <th>0</th>\n",
       "      <td>https://g1.globo.com/globonews/globonews-docum...</td>\n",
       "      <td>\"fevereiros\" revela as origens de maria bethân...</td>\n",
       "      <td>O documentário, parceria entre GloboNews e Glo...</td>\n",
       "    </tr>\n",
       "    <tr>\n",
       "      <th>1</th>\n",
       "      <td>https://g1.globo.com/globonews/jornal-globonew...</td>\n",
       "      <td>george w. bush parabeniza biden e harris pela ...</td>\n",
       "      <td>O ex-presidente americano, o republicano Georg...</td>\n",
       "    </tr>\n",
       "    <tr>\n",
       "      <th>2</th>\n",
       "      <td>https://g1.globo.com/globonews/fatos-e-versoes...</td>\n",
       "      <td>taxação do aço brasileiro pelos eua causa surp...</td>\n",
       "      <td>A recente taxação do aço brasileiro por parte ...</td>\n",
       "    </tr>\n",
       "    <tr>\n",
       "      <th>3</th>\n",
       "      <td>https://g1.globo.com/globonews/globonews-docum...</td>\n",
       "      <td>'documentário 24h em wuhan' mostra a realidade...</td>\n",
       "      <td>Equipe de uma TV chinesa percorreu o local e m...</td>\n",
       "    </tr>\n",
       "    <tr>\n",
       "      <th>4</th>\n",
       "      <td>https://g1.globo.com/globonews/jornal-das-dez/...</td>\n",
       "      <td>guga chacra comenta discurso de joe biden ‘um ...</td>\n",
       "      <td>Democrata Joe Biden discursou em Wilmington, n...</td>\n",
       "    </tr>\n",
       "  </tbody>\n",
       "</table>\n",
       "</div>"
      ],
      "text/plain": [
       "                                                 url  \\\n",
       "0  https://g1.globo.com/globonews/globonews-docum...   \n",
       "1  https://g1.globo.com/globonews/jornal-globonew...   \n",
       "2  https://g1.globo.com/globonews/fatos-e-versoes...   \n",
       "3  https://g1.globo.com/globonews/globonews-docum...   \n",
       "4  https://g1.globo.com/globonews/jornal-das-dez/...   \n",
       "\n",
       "                                              titulo  \\\n",
       "0  \"fevereiros\" revela as origens de maria bethân...   \n",
       "1  george w. bush parabeniza biden e harris pela ...   \n",
       "2  taxação do aço brasileiro pelos eua causa surp...   \n",
       "3  'documentário 24h em wuhan' mostra a realidade...   \n",
       "4  guga chacra comenta discurso de joe biden ‘um ...   \n",
       "\n",
       "                                            conteudo  \n",
       "0  O documentário, parceria entre GloboNews e Glo...  \n",
       "1  O ex-presidente americano, o republicano Georg...  \n",
       "2  A recente taxação do aço brasileiro por parte ...  \n",
       "3  Equipe de uma TV chinesa percorreu o local e m...  \n",
       "4  Democrata Joe Biden discursou em Wilmington, n...  "
      ]
     },
     "execution_count": 68,
     "metadata": {},
     "output_type": "execute_result"
    }
   ],
   "source": [
    "df = df.drop(df.columns[[0]], axis=1)\n",
    "df.head()"
   ]
  },
  {
   "cell_type": "code",
   "execution_count": 69,
   "metadata": {},
   "outputs": [
    {
     "data": {
      "text/html": [
       "<div>\n",
       "<style scoped>\n",
       "    .dataframe tbody tr th:only-of-type {\n",
       "        vertical-align: middle;\n",
       "    }\n",
       "\n",
       "    .dataframe tbody tr th {\n",
       "        vertical-align: top;\n",
       "    }\n",
       "\n",
       "    .dataframe thead th {\n",
       "        text-align: right;\n",
       "    }\n",
       "</style>\n",
       "<table border=\"1\" class=\"dataframe\">\n",
       "  <thead>\n",
       "    <tr style=\"text-align: right;\">\n",
       "      <th></th>\n",
       "      <th>url</th>\n",
       "      <th>titulo</th>\n",
       "      <th>conteudo</th>\n",
       "      <th>url_origem</th>\n",
       "    </tr>\n",
       "  </thead>\n",
       "  <tbody>\n",
       "    <tr>\n",
       "      <th>0</th>\n",
       "      <td>https://g1.globo.com/globonews/globonews-docum...</td>\n",
       "      <td>\"fevereiros\" revela as origens de maria bethân...</td>\n",
       "      <td>O documentário, parceria entre GloboNews e Glo...</td>\n",
       "      <td>globonews</td>\n",
       "    </tr>\n",
       "    <tr>\n",
       "      <th>1</th>\n",
       "      <td>https://g1.globo.com/globonews/jornal-globonew...</td>\n",
       "      <td>george w. bush parabeniza biden e harris pela ...</td>\n",
       "      <td>O ex-presidente americano, o republicano Georg...</td>\n",
       "      <td>globonews</td>\n",
       "    </tr>\n",
       "    <tr>\n",
       "      <th>2</th>\n",
       "      <td>https://g1.globo.com/globonews/fatos-e-versoes...</td>\n",
       "      <td>taxação do aço brasileiro pelos eua causa surp...</td>\n",
       "      <td>A recente taxação do aço brasileiro por parte ...</td>\n",
       "      <td>globonews</td>\n",
       "    </tr>\n",
       "    <tr>\n",
       "      <th>3</th>\n",
       "      <td>https://g1.globo.com/globonews/globonews-docum...</td>\n",
       "      <td>'documentário 24h em wuhan' mostra a realidade...</td>\n",
       "      <td>Equipe de uma TV chinesa percorreu o local e m...</td>\n",
       "      <td>globonews</td>\n",
       "    </tr>\n",
       "    <tr>\n",
       "      <th>4</th>\n",
       "      <td>https://g1.globo.com/globonews/jornal-das-dez/...</td>\n",
       "      <td>guga chacra comenta discurso de joe biden ‘um ...</td>\n",
       "      <td>Democrata Joe Biden discursou em Wilmington, n...</td>\n",
       "      <td>globonews</td>\n",
       "    </tr>\n",
       "  </tbody>\n",
       "</table>\n",
       "</div>"
      ],
      "text/plain": [
       "                                                 url  \\\n",
       "0  https://g1.globo.com/globonews/globonews-docum...   \n",
       "1  https://g1.globo.com/globonews/jornal-globonew...   \n",
       "2  https://g1.globo.com/globonews/fatos-e-versoes...   \n",
       "3  https://g1.globo.com/globonews/globonews-docum...   \n",
       "4  https://g1.globo.com/globonews/jornal-das-dez/...   \n",
       "\n",
       "                                              titulo  \\\n",
       "0  \"fevereiros\" revela as origens de maria bethân...   \n",
       "1  george w. bush parabeniza biden e harris pela ...   \n",
       "2  taxação do aço brasileiro pelos eua causa surp...   \n",
       "3  'documentário 24h em wuhan' mostra a realidade...   \n",
       "4  guga chacra comenta discurso de joe biden ‘um ...   \n",
       "\n",
       "                                            conteudo url_origem  \n",
       "0  O documentário, parceria entre GloboNews e Glo...  globonews  \n",
       "1  O ex-presidente americano, o republicano Georg...  globonews  \n",
       "2  A recente taxação do aço brasileiro por parte ...  globonews  \n",
       "3  Equipe de uma TV chinesa percorreu o local e m...  globonews  \n",
       "4  Democrata Joe Biden discursou em Wilmington, n...  globonews  "
      ]
     },
     "execution_count": 69,
     "metadata": {},
     "output_type": "execute_result"
    }
   ],
   "source": [
    "import numpy as np\n",
    "\n",
    "conditions = [\n",
    "    (df['url'].str.contains('gshow')),\n",
    "    (df['url'].str.contains('globonews')),\n",
    "    (df['url'].str.contains('globoesporte')),\n",
    "    ]\n",
    "\n",
    "choices = ['gshow', 'globonews','globoesporte']\n",
    "\n",
    "df['url_origem'] = np.select(conditions,choices)\n",
    "\n",
    "df.head()"
   ]
  },
  {
   "cell_type": "code",
   "execution_count": 70,
   "metadata": {},
   "outputs": [
    {
     "data": {
      "text/html": [
       "<div>\n",
       "<style scoped>\n",
       "    .dataframe tbody tr th:only-of-type {\n",
       "        vertical-align: middle;\n",
       "    }\n",
       "\n",
       "    .dataframe tbody tr th {\n",
       "        vertical-align: top;\n",
       "    }\n",
       "\n",
       "    .dataframe thead th {\n",
       "        text-align: right;\n",
       "    }\n",
       "</style>\n",
       "<table border=\"1\" class=\"dataframe\">\n",
       "  <thead>\n",
       "    <tr style=\"text-align: right;\">\n",
       "      <th></th>\n",
       "      <th>url</th>\n",
       "      <th>titulo</th>\n",
       "      <th>conteudo</th>\n",
       "      <th>url_origem</th>\n",
       "    </tr>\n",
       "  </thead>\n",
       "  <tbody>\n",
       "    <tr>\n",
       "      <th>count</th>\n",
       "      <td>1500</td>\n",
       "      <td>1500</td>\n",
       "      <td>1500</td>\n",
       "      <td>1500</td>\n",
       "    </tr>\n",
       "    <tr>\n",
       "      <th>unique</th>\n",
       "      <td>1500</td>\n",
       "      <td>1468</td>\n",
       "      <td>1465</td>\n",
       "      <td>3</td>\n",
       "    </tr>\n",
       "    <tr>\n",
       "      <th>top</th>\n",
       "      <td>https://g1.globo.com/globonews/em-foco-com-and...</td>\n",
       "      <td>participante do 'milionário' pede duas ajudas ...</td>\n",
       "      <td>Edivan Duarte participa do 'Quem Quer Ser Um ...</td>\n",
       "      <td>gshow</td>\n",
       "    </tr>\n",
       "    <tr>\n",
       "      <th>freq</th>\n",
       "      <td>1</td>\n",
       "      <td>5</td>\n",
       "      <td>5</td>\n",
       "      <td>500</td>\n",
       "    </tr>\n",
       "  </tbody>\n",
       "</table>\n",
       "</div>"
      ],
      "text/plain": [
       "                                                      url  \\\n",
       "count                                                1500   \n",
       "unique                                               1500   \n",
       "top     https://g1.globo.com/globonews/em-foco-com-and...   \n",
       "freq                                                    1   \n",
       "\n",
       "                                                   titulo  \\\n",
       "count                                                1500   \n",
       "unique                                               1468   \n",
       "top     participante do 'milionário' pede duas ajudas ...   \n",
       "freq                                                    5   \n",
       "\n",
       "                                                 conteudo url_origem  \n",
       "count                                                1500       1500  \n",
       "unique                                               1465          3  \n",
       "top      Edivan Duarte participa do 'Quem Quer Ser Um ...      gshow  \n",
       "freq                                                    5        500  "
      ]
     },
     "execution_count": 70,
     "metadata": {},
     "output_type": "execute_result"
    }
   ],
   "source": [
    "df.describe()"
   ]
  },
  {
   "cell_type": "markdown",
   "metadata": {},
   "source": [
    "# Pré-processamento nos textos das tags P\n",
    "\n",
    "* Como os dados estão balanceados, vamos usar a acurácia como métrica, e nossa baseline será de 33% (dado que são 3 categorias)\n",
    "\n",
    "* Primeiro, vamos analisar os dados sem qualquer pré-processamento"
   ]
  },
  {
   "cell_type": "code",
   "execution_count": 71,
   "metadata": {},
   "outputs": [
    {
     "name": "stdout",
     "output_type": "stream",
     "text": [
      "0.9454545454545454\n"
     ]
    }
   ],
   "source": [
    "from sklearn.feature_extraction.text import CountVectorizer\n",
    "from sklearn.model_selection import train_test_split\n",
    "from sklearn.linear_model import LogisticRegression\n",
    "\n",
    "def log_fit(max_features = 50,coluna = 'conteudo'):\n",
    "    \n",
    "    vetorizador = CountVectorizer(max_features = max_features)\n",
    "\n",
    "    bag_of_words = vetorizador.fit_transform(df[coluna])\n",
    "\n",
    "\n",
    "    x_train, x_test, y_train, y_test = train_test_split(bag_of_words, df.url_origem, test_size=0.33, random_state=42)\n",
    "\n",
    "    reg_log = LogisticRegression()\n",
    "\n",
    "    reg_log.fit(x_train,y_train)\n",
    "    print(reg_log.score(x_test,y_test))\n",
    "    \n",
    "log_fit()"
   ]
  },
  {
   "cell_type": "markdown",
   "metadata": {},
   "source": [
    "* Os dados estão muito acima da baseline e é muito improváel que apenas uma palavra possa definir se um texto é de esporte, notícias ou entretenimento"
   ]
  },
  {
   "cell_type": "code",
   "execution_count": 72,
   "metadata": {},
   "outputs": [
    {
     "name": "stdout",
     "output_type": "stream",
     "text": [
      "0.5515151515151515\n",
      "0.6323232323232323\n",
      "0.7272727272727273\n",
      "0.8404040404040404\n"
     ]
    }
   ],
   "source": [
    "log_fit(1)\n",
    "log_fit(3)\n",
    "log_fit(5)\n",
    "log_fit(10)"
   ]
  },
  {
   "cell_type": "markdown",
   "metadata": {},
   "source": [
    "## Removendo as palavras que enviesam o modelo"
   ]
  },
  {
   "cell_type": "code",
   "execution_count": 73,
   "metadata": {},
   "outputs": [],
   "source": [
    "# Grafico mostrando as 10 palavras mais usadas\n",
    "\n",
    "import seaborn as sns\n",
    "import matplotlib.pyplot as plt\n",
    "\n",
    "import nltk\n",
    "from nltk import tokenize\n",
    "\n",
    "# primeiro vamos usar o tokenizador mais simples\n",
    "tokenizador_espaco = tokenize.WhitespaceTokenizer()"
   ]
  },
  {
   "cell_type": "code",
   "execution_count": 74,
   "metadata": {},
   "outputs": [],
   "source": [
    "def pareto(coluna_texto,tokenizador,url_origem = 'all',num_bar = 10):\n",
    "    \n",
    "    if str(url_origem) == 'all':\n",
    "        cor = 'grey'\n",
    "    elif str(url_origem) == 'globoesporte':\n",
    "        cor = 'green'\n",
    "    elif str(url_origem) == 'globonews':\n",
    "        cor = 'red'\n",
    "    else:\n",
    "        cor  = 'orange'\n",
    "    \n",
    "    if str(url_origem) != 'all':\n",
    "        df_n = df[df['url_origem'] == url_origem]\n",
    "    else:\n",
    "        df_n = df\n",
    "    \n",
    "    palavras = ' '.join([texto for texto in df_n[coluna_texto]])\n",
    "    frequencia = nltk.FreqDist(tokenizador.tokenize(palavras))\n",
    "    df_frequencia = pd.DataFrame({\"Palavra\": list(frequencia.keys()),\n",
    "                             \"Frequência\": list(frequencia.values())})\n",
    "    df_frequencia = df_frequencia.nlargest(columns = \"Frequência\", n = num_bar)\n",
    "    plt.figure(figsize=(20,8))\n",
    "    ax = sns.barplot(data = df_frequencia, x= \"Palavra\", y = \"Frequência\", color = cor)\n",
    "    ax.set(ylabel = \"Contagem\")\n",
    "    plt.show()"
   ]
  },
  {
   "cell_type": "code",
   "execution_count": 75,
   "metadata": {},
   "outputs": [
    {
     "data": {
      "image/png": "[encoded data removed]",
      "text/plain": [
       "<Figure size 1440x576 with 1 Axes>"
      ]
     },
     "metadata": {
      "needs_background": "light"
     },
     "output_type": "display_data"
    }
   ],
   "source": [
    "pareto('conteudo',tokenizador_espaco)"
   ]
  },
  {
   "cell_type": "code",
   "execution_count": 76,
   "metadata": {},
   "outputs": [
    {
     "data": {
      "image/png": "[encoded data removed]",
      "text/plain": [
       "<Figure size 1440x576 with 1 Axes>"
      ]
     },
     "metadata": {
      "needs_background": "light"
     },
     "output_type": "display_data"
    }
   ],
   "source": [
    "pareto('conteudo',tokenizador_espaco,'globonews')"
   ]
  },
  {
   "cell_type": "code",
   "execution_count": 77,
   "metadata": {},
   "outputs": [
    {
     "data": {
      "image/png": "[encoded data removed]",
      "text/plain": [
       "<Figure size 1440x576 with 1 Axes>"
      ]
     },
     "metadata": {
      "needs_background": "light"
     },
     "output_type": "display_data"
    }
   ],
   "source": [
    "pareto('conteudo',tokenizador_espaco,'gshow')"
   ]
  },
  {
   "cell_type": "code",
   "execution_count": 78,
   "metadata": {
    "scrolled": true
   },
   "outputs": [
    {
     "data": {
      "image/png": "[encoded data removed]",
      "text/plain": [
       "<Figure size 1440x576 with 1 Axes>"
      ]
     },
     "metadata": {
      "needs_background": "light"
     },
     "output_type": "display_data"
    }
   ],
   "source": [
    "pareto('conteudo',tokenizador_espaco,'globoesporte')"
   ]
  },
  {
   "cell_type": "markdown",
   "metadata": {},
   "source": [
    "### Processamentos básicos no texto\n",
    "\n",
    "1. Remoção de stopwords\n",
    "2. Transformar tudo em minúsculo\n",
    "3. remover pontuações\n",
    "4. remover acentuações"
   ]
  },
  {
   "cell_type": "code",
   "execution_count": 79,
   "metadata": {},
   "outputs": [],
   "source": [
    "def show_palavras_mais_usadas():\n",
    "    \n",
    "    palavras = ' '.join([texto for texto in df['texto_processado']])\n",
    "    frequencia = nltk.FreqDist(tokenizador_ponto.tokenize(palavras))\n",
    "    df_frequencia = pd.DataFrame({\"Palavra\": list(frequencia.keys()),\n",
    "                             \"Frequência\": list(frequencia.values())})\n",
    "    df_frequencia = df_frequencia.nlargest(columns = \"Frequência\", n = 50)\n",
    "    print(df_frequencia)"
   ]
  },
  {
   "cell_type": "code",
   "execution_count": 80,
   "metadata": {},
   "outputs": [],
   "source": [
    "# lib pra remover acentos\n",
    "import unidecode\n",
    "\n",
    "# cria lista de stop words\n",
    "stop_words = nltk.corpus.stopwords.words(\"portuguese\")\n",
    "stop_words = [unidecode.unidecode(palavra) for palavra in stop_words]\n",
    "\n",
    "# remove pontuações\n",
    "from string import punctuation\n",
    "pontuações = []\n",
    "for ponto in punctuation:\n",
    "    pontuações.append(ponto)\n",
    "    \n",
    "# Separa usando os pontos    \n",
    "tokenizador_ponto = tokenize.WordPunctTokenizer()\n",
    "\n",
    "# fui removendo conforme elas apareciam na lista de palavras mais usadas\n",
    "dicionário = ['—','),','texto','foto','video','reproducao','reproducaoinstagram',\n",
    "             'globo','globonews','globoesporte','-','--','\",','videos','gshow','tv'\n",
    "             ,').','images']\n",
    "\n",
    "filtro = pontuações + stop_words + dicionário\n",
    "\n",
    "texto_processado = []\n",
    "for texto_pagina in df.conteudo:\n",
    "    palavras_relevantes = []\n",
    "    texto_pagina_tokenizado = tokenizador.tokenize(texto_pagina)\n",
    "    for palavra in texto_pagina_tokenizado:\n",
    "        palavra = palavra.lower()\n",
    "        palavra = unidecode.unidecode(palavra)\n",
    "        if palavra not in filtro:\n",
    "            palavras_relevantes.append(palavra)\n",
    "    texto_processado.append(' '.join(palavras_relevantes))\n",
    "\n",
    "df['texto_processado'] = texto_processado"
   ]
  },
  {
   "cell_type": "code",
   "execution_count": 81,
   "metadata": {},
   "outputs": [
    {
     "data": {
      "image/png": "[encoded data removed]",
      "text/plain": [
       "<Figure size 1440x576 with 1 Axes>"
      ]
     },
     "metadata": {
      "needs_background": "light"
     },
     "output_type": "display_data"
    }
   ],
   "source": [
    "pareto('texto_processado',tokenizador_ponto)"
   ]
  },
  {
   "cell_type": "code",
   "execution_count": 82,
   "metadata": {},
   "outputs": [
    {
     "data": {
      "image/png": "[encoded data removed]",
      "text/plain": [
       "<Figure size 1440x576 with 1 Axes>"
      ]
     },
     "metadata": {
      "needs_background": "light"
     },
     "output_type": "display_data"
    }
   ],
   "source": [
    "pareto('texto_processado',tokenizador_ponto,'globonews')"
   ]
  },
  {
   "cell_type": "code",
   "execution_count": 83,
   "metadata": {},
   "outputs": [
    {
     "data": {
      "image/png": "[encoded data removed]",
      "text/plain": [
       "<Figure size 1440x576 with 1 Axes>"
      ]
     },
     "metadata": {
      "needs_background": "light"
     },
     "output_type": "display_data"
    }
   ],
   "source": [
    "pareto('texto_processado',tokenizador_ponto,'gshow')"
   ]
  },
  {
   "cell_type": "code",
   "execution_count": 84,
   "metadata": {},
   "outputs": [
    {
     "data": {
      "image/png": "[encoded data removed]",
      "text/plain": [
       "<Figure size 1440x576 with 1 Axes>"
      ]
     },
     "metadata": {
      "needs_background": "light"
     },
     "output_type": "display_data"
    }
   ],
   "source": [
    "pareto('texto_processado',tokenizador_ponto,'globoesporte')"
   ]
  },
  {
   "cell_type": "code",
   "execution_count": 85,
   "metadata": {},
   "outputs": [
    {
     "name": "stdout",
     "output_type": "stream",
     "text": [
      "0.7777777777777778\n"
     ]
    }
   ],
   "source": [
    "log_fit(coluna = 'texto_processado')"
   ]
  },
  {
   "cell_type": "code",
   "execution_count": 86,
   "metadata": {},
   "outputs": [
    {
     "name": "stdout",
     "output_type": "stream",
     "text": [
      "         Palavra  Frequência\n",
      "210        sobre         474\n",
      "87           vai         463\n",
      "745       contra         453\n",
      "1819        jogo         451\n",
      "103         luta         431\n",
      "187          ser         427\n",
      "215     primeiro         393\n",
      "1345        time         389\n",
      "121         dois         387\n",
      "53         ainda         384\n",
      "3183           x         376\n",
      "217         apos         360\n",
      "276        serie         353\n",
      "410          dia         353\n",
      "635         casa         343\n",
      "289         anos         338\n",
      "128       brasil         326\n",
      "59    brasileiro         323\n",
      "67        equipe         323\n",
      "34       vitoria         316\n",
      "604        gente         309\n",
      "1777      pontos         306\n",
      "266          ter         304\n",
      "151        fazer         293\n",
      "7288         ufc         291\n",
      "2299       final         289\n",
      "5556       round         286\n",
      "232      segundo         283\n",
      "160            1         264\n",
      "530        paulo         257\n",
      "961        jogos         256\n",
      "852        tempo         253\n",
      "1487         bem         252\n",
      "4008      rodada         245\n",
      "415     primeira         241\n",
      "416          vez         230\n",
      "639        agora         226\n",
      "268       melhor         224\n",
      "3839     partida         223\n",
      "3912     tecnico         221\n",
      "577         tres         219\n",
      "113        feira         218\n",
      "425          ano         216\n",
      "442        todos         216\n",
      "3840  campeonato         216\n",
      "226         pode         212\n",
      "40        sabado         210\n",
      "2881        duas         206\n",
      "5171       getty         205\n",
      "951            2         204\n"
     ]
    }
   ],
   "source": [
    "show_palavras_mais_usadas()"
   ]
  },
  {
   "cell_type": "code",
   "execution_count": 87,
   "metadata": {},
   "outputs": [],
   "source": [
    "df.to_csv('C:\\\\Users\\\\samsung\\\\Desktop\\\\df_sites_globo2_stopwords.csv',index = False)"
   ]
  }
 ],
 "metadata": {
  "kernelspec": {
   "display_name": "Python 3",
   "language": "python",
   "name": "python3"
  }
 },
 "nbformat": 4,
 "nbformat_minor": 2
}

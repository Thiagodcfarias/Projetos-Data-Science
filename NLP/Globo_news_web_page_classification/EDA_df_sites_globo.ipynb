{
 "cells": [
  {
   "cell_type": "markdown",
   "metadata": {},
   "source": [
    "# explorando o dataset criado"
   ]
  },
  {
   "cell_type": "code",
   "execution_count": null,
   "metadata": {},
   "outputs": [],
   "source": [
    "import pandas as pd"
   ]
  },
  {
   "cell_type": "code",
   "execution_count": 2,
   "metadata": {},
   "outputs": [],
   "source": [
    "df = pd.read_csv('C:\\\\Users\\\\samsung\\\\Desktop\\\\df_sites_globo.csv')"
   ]
  },
  {
   "cell_type": "code",
   "execution_count": 54,
   "metadata": {},
   "outputs": [
    {
     "data": {
      "text/html": [
       "<div>\n",
       "<style scoped>\n",
       "    .dataframe tbody tr th:only-of-type {\n",
       "        vertical-align: middle;\n",
       "    }\n",
       "\n",
       "    .dataframe tbody tr th {\n",
       "        vertical-align: top;\n",
       "    }\n",
       "\n",
       "    .dataframe thead th {\n",
       "        text-align: right;\n",
       "    }\n",
       "</style>\n",
       "<table border=\"1\" class=\"dataframe\">\n",
       "  <thead>\n",
       "    <tr style=\"text-align: right;\">\n",
       "      <th></th>\n",
       "      <th>Unnamed: 0</th>\n",
       "      <th>url</th>\n",
       "      <th>Título</th>\n",
       "      <th>Conteudo</th>\n",
       "    </tr>\n",
       "  </thead>\n",
       "  <tbody>\n",
       "    <tr>\n",
       "      <th>0</th>\n",
       "      <td>0</td>\n",
       "      <td>https://g1.globo.com/podcast/g1-ouviu/noticia/...</td>\n",
       "      <td>[\"G1 Ouviu #113 - 'O homem disparou': o jingle...</td>\n",
       "      <td>Por Braulio Lorentz e Rodrigo Ortega, G1  Um ...</td>\n",
       "    </tr>\n",
       "    <tr>\n",
       "      <th>1</th>\n",
       "      <td>0</td>\n",
       "      <td>https://g1.globo.com/economia/playlist/videos-...</td>\n",
       "      <td>['Globo.com - Desculpe-nos, página não encontr...</td>\n",
       "      <td>O endereço abaixo não existe na globo.com</td>\n",
       "    </tr>\n",
       "    <tr>\n",
       "      <th>2</th>\n",
       "      <td>0</td>\n",
       "      <td>https://g1.globo.com/podcast/g1-ouviu/noticia/...</td>\n",
       "      <td>[\"G1 Ouviu #110 - 'Romance desapegado': a hist...</td>\n",
       "      <td>Por G1  Um podcast é como se fosse um program...</td>\n",
       "    </tr>\n",
       "    <tr>\n",
       "      <th>3</th>\n",
       "      <td>0</td>\n",
       "      <td>https://g1.globo.com/ce/ceara/noticia/2020/11/...</td>\n",
       "      <td>['Motorista perde controle da direção, e carro...</td>\n",
       "      <td>Por G1 CE  Por causa da força do impacto, alé...</td>\n",
       "    </tr>\n",
       "    <tr>\n",
       "      <th>4</th>\n",
       "      <td>0</td>\n",
       "      <td>https://g1.globo.com/ciencia-e-saude/noticia/2...</td>\n",
       "      <td>['Mulheres caçadoras eram comuns e podem ter d...</td>\n",
       "      <td>Por G1  Caçadoras mulheres pode ter sido comu...</td>\n",
       "    </tr>\n",
       "    <tr>\n",
       "      <th>5</th>\n",
       "      <td>0</td>\n",
       "      <td>https://g1.globo.com/globonews/dialogos-com-ma...</td>\n",
       "      <td>['Cezar Peluso defende prisão em segunda instâ...</td>\n",
       "      <td>Mario Sergio Conti entrevista Cezar Peluso, ex...</td>\n",
       "    </tr>\n",
       "    <tr>\n",
       "      <th>6</th>\n",
       "      <td>0</td>\n",
       "      <td>https://g1.globo.com/sp/presidente-prudente-re...</td>\n",
       "      <td>['Após denúncia, estelionatário que se passava...</td>\n",
       "      <td>Por G1 Presidente Prudente  Máquinas de cartõ...</td>\n",
       "    </tr>\n",
       "    <tr>\n",
       "      <th>7</th>\n",
       "      <td>0</td>\n",
       "      <td>https://g1.globo.com/go/goias/noticia/2020/11/...</td>\n",
       "      <td>['Advogado é preso suspeito de envolvimento na...</td>\n",
       "      <td>Por Guilherme Rodrigues e Ludimilla Rodrigues...</td>\n",
       "    </tr>\n",
       "    <tr>\n",
       "      <th>8</th>\n",
       "      <td>0</td>\n",
       "      <td>https://g1.globo.com/go/goias/noticia/2020/11/...</td>\n",
       "      <td>['Jovem é preso suspeito de matar amiga e tent...</td>\n",
       "      <td>Por Guilherme Rodrigues, TV Anhanguera  Marle...</td>\n",
       "    </tr>\n",
       "    <tr>\n",
       "      <th>9</th>\n",
       "      <td>0</td>\n",
       "      <td>https://g1.globo.com/noticia/2019/12/12/equipe...</td>\n",
       "      <td>['Equipe do G1 | G1 | G1', 'G1', 'Newsletter G...</td>\n",
       "      <td>Conheça a equipe completa:  Affonso Andrade –...</td>\n",
       "    </tr>\n",
       "    <tr>\n",
       "      <th>10</th>\n",
       "      <td>0</td>\n",
       "      <td>https://g1.globo.com/g1-em-1-minuto/playlist/v...</td>\n",
       "      <td>['VÍDEOS: G1 em 1 Minuto, com Paula Paiva, Lui...</td>\n",
       "      <td></td>\n",
       "    </tr>\n",
       "    <tr>\n",
       "      <th>11</th>\n",
       "      <td>0</td>\n",
       "      <td>https://g1.globo.com/df/distrito-federal/o-que...</td>\n",
       "      <td>['Festival Internacional Cinema e Transcendênc...</td>\n",
       "      <td>Por G1 DF  As três semanas de programação inc...</td>\n",
       "    </tr>\n",
       "    <tr>\n",
       "      <th>12</th>\n",
       "      <td>0</td>\n",
       "      <td>https://g1.globo.com/fantastico/quadros/fant-3...</td>\n",
       "      <td>['Fant 360: Renata Ceribelli conhece os maori,...</td>\n",
       "      <td>Por Fantástico  Fant 360: Renata Ceribelli co...</td>\n",
       "    </tr>\n",
       "    <tr>\n",
       "      <th>13</th>\n",
       "      <td>0</td>\n",
       "      <td>https://g1.globo.com/go/goias/cidade/goiania/</td>\n",
       "      <td>['Goiânia | Cidade | G1', 'G1', 'G1']</td>\n",
       "      <td>Em breve!Estamos providenciando conteúdo dessa...</td>\n",
       "    </tr>\n",
       "    <tr>\n",
       "      <th>14</th>\n",
       "      <td>0</td>\n",
       "      <td>https://g1.globo.com/sp/presidente-prudente-re...</td>\n",
       "      <td>['Idoso atropelado na faixa de pedestre está e...</td>\n",
       "      <td>Por G1 Presidente Prudente  Idoso é atropelad...</td>\n",
       "    </tr>\n",
       "    <tr>\n",
       "      <th>15</th>\n",
       "      <td>0</td>\n",
       "      <td>https://g1.globo.com/podcast/g1-ouviu/noticia/...</td>\n",
       "      <td>['G1 Ouviu #111- MTV Brasil 30 anos: como o ca...</td>\n",
       "      <td>Por Gabriela Sarmento e Rodrigo Ortega, G1  U...</td>\n",
       "    </tr>\n",
       "    <tr>\n",
       "      <th>16</th>\n",
       "      <td>0</td>\n",
       "      <td>https://g1.globo.com/g1-em-1-minuto/playlist/v...</td>\n",
       "      <td>['VÍDEOS: G1 em 1 Minuto, com Paula Paiva, Lui...</td>\n",
       "      <td></td>\n",
       "    </tr>\n",
       "    <tr>\n",
       "      <th>17</th>\n",
       "      <td>0</td>\n",
       "      <td>https://g1.globo.com/g1-em-1-minuto/playlist/v...</td>\n",
       "      <td>['VÍDEOS: G1 em 1 Minuto, com Paula Paiva, Lui...</td>\n",
       "      <td></td>\n",
       "    </tr>\n",
       "    <tr>\n",
       "      <th>18</th>\n",
       "      <td>0</td>\n",
       "      <td>https://g1.globo.com/g1-em-1-minuto/playlist/v...</td>\n",
       "      <td>['VÍDEOS: G1 em 1 Minuto, com Paula Paiva, Lui...</td>\n",
       "      <td></td>\n",
       "    </tr>\n",
       "    <tr>\n",
       "      <th>19</th>\n",
       "      <td>0</td>\n",
       "      <td>https://g1.globo.com/g1-em-1-minuto/playlist/v...</td>\n",
       "      <td>['VÍDEOS: G1 em 1 Minuto, com Paula Paiva, Lui...</td>\n",
       "      <td></td>\n",
       "    </tr>\n",
       "  </tbody>\n",
       "</table>\n",
       "</div>"
      ],
      "text/plain": [
       "    Unnamed: 0                                                url  \\\n",
       "0            0  https://g1.globo.com/podcast/g1-ouviu/noticia/...   \n",
       "1            0  https://g1.globo.com/economia/playlist/videos-...   \n",
       "2            0  https://g1.globo.com/podcast/g1-ouviu/noticia/...   \n",
       "3            0  https://g1.globo.com/ce/ceara/noticia/2020/11/...   \n",
       "4            0  https://g1.globo.com/ciencia-e-saude/noticia/2...   \n",
       "5            0  https://g1.globo.com/globonews/dialogos-com-ma...   \n",
       "6            0  https://g1.globo.com/sp/presidente-prudente-re...   \n",
       "7            0  https://g1.globo.com/go/goias/noticia/2020/11/...   \n",
       "8            0  https://g1.globo.com/go/goias/noticia/2020/11/...   \n",
       "9            0  https://g1.globo.com/noticia/2019/12/12/equipe...   \n",
       "10           0  https://g1.globo.com/g1-em-1-minuto/playlist/v...   \n",
       "11           0  https://g1.globo.com/df/distrito-federal/o-que...   \n",
       "12           0  https://g1.globo.com/fantastico/quadros/fant-3...   \n",
       "13           0      https://g1.globo.com/go/goias/cidade/goiania/   \n",
       "14           0  https://g1.globo.com/sp/presidente-prudente-re...   \n",
       "15           0  https://g1.globo.com/podcast/g1-ouviu/noticia/...   \n",
       "16           0  https://g1.globo.com/g1-em-1-minuto/playlist/v...   \n",
       "17           0  https://g1.globo.com/g1-em-1-minuto/playlist/v...   \n",
       "18           0  https://g1.globo.com/g1-em-1-minuto/playlist/v...   \n",
       "19           0  https://g1.globo.com/g1-em-1-minuto/playlist/v...   \n",
       "\n",
       "                                               Título  \\\n",
       "0   [\"G1 Ouviu #113 - 'O homem disparou': o jingle...   \n",
       "1   ['Globo.com - Desculpe-nos, página não encontr...   \n",
       "2   [\"G1 Ouviu #110 - 'Romance desapegado': a hist...   \n",
       "3   ['Motorista perde controle da direção, e carro...   \n",
       "4   ['Mulheres caçadoras eram comuns e podem ter d...   \n",
       "5   ['Cezar Peluso defende prisão em segunda instâ...   \n",
       "6   ['Após denúncia, estelionatário que se passava...   \n",
       "7   ['Advogado é preso suspeito de envolvimento na...   \n",
       "8   ['Jovem é preso suspeito de matar amiga e tent...   \n",
       "9   ['Equipe do G1 | G1 | G1', 'G1', 'Newsletter G...   \n",
       "10  ['VÍDEOS: G1 em 1 Minuto, com Paula Paiva, Lui...   \n",
       "11  ['Festival Internacional Cinema e Transcendênc...   \n",
       "12  ['Fant 360: Renata Ceribelli conhece os maori,...   \n",
       "13              ['Goiânia | Cidade | G1', 'G1', 'G1']   \n",
       "14  ['Idoso atropelado na faixa de pedestre está e...   \n",
       "15  ['G1 Ouviu #111- MTV Brasil 30 anos: como o ca...   \n",
       "16  ['VÍDEOS: G1 em 1 Minuto, com Paula Paiva, Lui...   \n",
       "17  ['VÍDEOS: G1 em 1 Minuto, com Paula Paiva, Lui...   \n",
       "18  ['VÍDEOS: G1 em 1 Minuto, com Paula Paiva, Lui...   \n",
       "19  ['VÍDEOS: G1 em 1 Minuto, com Paula Paiva, Lui...   \n",
       "\n",
       "                                             Conteudo  \n",
       "0    Por Braulio Lorentz e Rodrigo Ortega, G1  Um ...  \n",
       "1           O endereço abaixo não existe na globo.com  \n",
       "2    Por G1  Um podcast é como se fosse um program...  \n",
       "3    Por G1 CE  Por causa da força do impacto, alé...  \n",
       "4    Por G1  Caçadoras mulheres pode ter sido comu...  \n",
       "5   Mario Sergio Conti entrevista Cezar Peluso, ex...  \n",
       "6    Por G1 Presidente Prudente  Máquinas de cartõ...  \n",
       "7    Por Guilherme Rodrigues e Ludimilla Rodrigues...  \n",
       "8    Por Guilherme Rodrigues, TV Anhanguera  Marle...  \n",
       "9    Conheça a equipe completa:  Affonso Andrade –...  \n",
       "10                                                     \n",
       "11   Por G1 DF  As três semanas de programação inc...  \n",
       "12   Por Fantástico  Fant 360: Renata Ceribelli co...  \n",
       "13  Em breve!Estamos providenciando conteúdo dessa...  \n",
       "14   Por G1 Presidente Prudente  Idoso é atropelad...  \n",
       "15   Por Gabriela Sarmento e Rodrigo Ortega, G1  U...  \n",
       "16                                                     \n",
       "17                                                     \n",
       "18                                                     \n",
       "19                                                     "
      ]
     },
     "execution_count": 54,
     "metadata": {},
     "output_type": "execute_result"
    }
   ],
   "source": [
    "df.head(20)"
   ]
  },
  {
   "cell_type": "code",
   "execution_count": 12,
   "metadata": {},
   "outputs": [
    {
     "data": {
      "text/plain": [
       "\"['VÍDEOS: G1 em 1 Minuto, com Paula Paiva, Luiza Tenente, Carol Prado e Gabi Gonçalves', 'G1', 'G1']\""
      ]
     },
     "execution_count": 12,
     "metadata": {},
     "output_type": "execute_result"
    }
   ],
   "source": [
    "df['Título'][16] #algumas linhas estão muito pobres "
   ]
  },
  {
   "cell_type": "code",
   "execution_count": 14,
   "metadata": {},
   "outputs": [
    {
     "data": {
      "text/plain": [
       "\"['Globo.com - Desculpe-nos, página não encontrada']\""
      ]
     },
     "execution_count": 14,
     "metadata": {},
     "output_type": "execute_result"
    }
   ],
   "source": [
    "df['Título'][1]"
   ]
  },
  {
   "cell_type": "code",
   "execution_count": 4,
   "metadata": {},
   "outputs": [
    {
     "data": {
      "text/html": [
       "<div>\n",
       "<style scoped>\n",
       "    .dataframe tbody tr th:only-of-type {\n",
       "        vertical-align: middle;\n",
       "    }\n",
       "\n",
       "    .dataframe tbody tr th {\n",
       "        vertical-align: top;\n",
       "    }\n",
       "\n",
       "    .dataframe thead th {\n",
       "        text-align: right;\n",
       "    }\n",
       "</style>\n",
       "<table border=\"1\" class=\"dataframe\">\n",
       "  <thead>\n",
       "    <tr style=\"text-align: right;\">\n",
       "      <th></th>\n",
       "      <th>Unnamed: 0</th>\n",
       "      <th>url</th>\n",
       "      <th>Título</th>\n",
       "      <th>Conteudo</th>\n",
       "    </tr>\n",
       "  </thead>\n",
       "  <tbody>\n",
       "    <tr>\n",
       "      <th>1495</th>\n",
       "      <td>0</td>\n",
       "      <td>https://gshow.globo.com/humor/sterblitch-nao-t...</td>\n",
       "      <td>[\"Hugo Gloss relembra dia em que Beyoncé caiu ...</td>\n",
       "      <td>Hugo Gloss participou do 'Sterblitch Não Tem ...</td>\n",
       "    </tr>\n",
       "    <tr>\n",
       "      <th>1496</th>\n",
       "      <td>0</td>\n",
       "      <td>https://gshow.globo.com/RPC/Estudio-C/cozinha-...</td>\n",
       "      <td>['Veja como fazer aquela pipoca com manteiga i...</td>\n",
       "      <td>Salvo em seu Livro de Receitas!   Vídeos para ...</td>\n",
       "    </tr>\n",
       "    <tr>\n",
       "      <th>1497</th>\n",
       "      <td>0</td>\n",
       "      <td>https://gshow.globo.com/novelas/flor-do-caribe...</td>\n",
       "      <td>['Cristal vai até a casa de Ester e confessa q...</td>\n",
       "      <td>Cristal (Moro Anghileri) revela planos de Alb...</td>\n",
       "    </tr>\n",
       "    <tr>\n",
       "      <th>1498</th>\n",
       "      <td>0</td>\n",
       "      <td>https://gshow.globo.com/novelas/malhacao/playl...</td>\n",
       "      <td>['gshow.com', 'Gshow']</td>\n",
       "      <td></td>\n",
       "    </tr>\n",
       "    <tr>\n",
       "      <th>1499</th>\n",
       "      <td>0</td>\n",
       "      <td>https://gshow.globo.com/RPC/mechama/playlist/r...</td>\n",
       "      <td>['gshow.com', 'Gshow']</td>\n",
       "      <td></td>\n",
       "    </tr>\n",
       "  </tbody>\n",
       "</table>\n",
       "</div>"
      ],
      "text/plain": [
       "      Unnamed: 0                                                url  \\\n",
       "1495           0  https://gshow.globo.com/humor/sterblitch-nao-t...   \n",
       "1496           0  https://gshow.globo.com/RPC/Estudio-C/cozinha-...   \n",
       "1497           0  https://gshow.globo.com/novelas/flor-do-caribe...   \n",
       "1498           0  https://gshow.globo.com/novelas/malhacao/playl...   \n",
       "1499           0  https://gshow.globo.com/RPC/mechama/playlist/r...   \n",
       "\n",
       "                                                 Título  \\\n",
       "1495  [\"Hugo Gloss relembra dia em que Beyoncé caiu ...   \n",
       "1496  ['Veja como fazer aquela pipoca com manteiga i...   \n",
       "1497  ['Cristal vai até a casa de Ester e confessa q...   \n",
       "1498                             ['gshow.com', 'Gshow']   \n",
       "1499                             ['gshow.com', 'Gshow']   \n",
       "\n",
       "                                               Conteudo  \n",
       "1495   Hugo Gloss participou do 'Sterblitch Não Tem ...  \n",
       "1496  Salvo em seu Livro de Receitas!   Vídeos para ...  \n",
       "1497   Cristal (Moro Anghileri) revela planos de Alb...  \n",
       "1498                                                     \n",
       "1499                                                     "
      ]
     },
     "execution_count": 4,
     "metadata": {},
     "output_type": "execute_result"
    }
   ],
   "source": [
    "df.tail()"
   ]
  },
  {
   "cell_type": "code",
   "execution_count": 6,
   "metadata": {},
   "outputs": [
    {
     "data": {
      "text/plain": [
       "'\\xa0\\xa0'"
      ]
     },
     "execution_count": 6,
     "metadata": {},
     "output_type": "execute_result"
    }
   ],
   "source": [
    "df.Conteudo[1499]"
   ]
  },
  {
   "cell_type": "code",
   "execution_count": 27,
   "metadata": {},
   "outputs": [
    {
     "data": {
      "text/plain": [
       "True"
      ]
     },
     "execution_count": 27,
     "metadata": {},
     "output_type": "execute_result"
    }
   ],
   "source": [
    "df.Conteudo[1499] =='\\xa0\\xa0'"
   ]
  },
  {
   "cell_type": "code",
   "execution_count": 28,
   "metadata": {},
   "outputs": [
    {
     "data": {
      "text/plain": [
       "412"
      ]
     },
     "execution_count": 28,
     "metadata": {},
     "output_type": "execute_result"
    }
   ],
   "source": [
    "df.Conteudo.str.contains('\\xa0\\xa0').astype(int).sum()"
   ]
  },
  {
   "cell_type": "code",
   "execution_count": 42,
   "metadata": {},
   "outputs": [
    {
     "data": {
      "text/plain": [
       "412"
      ]
     },
     "execution_count": 42,
     "metadata": {},
     "output_type": "execute_result"
    }
   ],
   "source": [
    "df.Conteudo.str.contains('\\xa0').astype(int).sum()"
   ]
  },
  {
   "cell_type": "code",
   "execution_count": 8,
   "metadata": {},
   "outputs": [
    {
     "data": {
      "text/plain": [
       "\"['Ídolo do Bétis detona Koeman e diz que não contrataria técnico do Barcelona “nem como roupeiro” | futebol espanhol | ge']\""
      ]
     },
     "execution_count": 8,
     "metadata": {},
     "output_type": "execute_result"
    }
   ],
   "source": [
    "df['Título'][600]"
   ]
  },
  {
   "cell_type": "code",
   "execution_count": 9,
   "metadata": {},
   "outputs": [
    {
     "data": {
      "text/plain": [
       "'[\\'Southampton vence Newcastle, dorme na liderança do Inglês e brinca: \"Pare a contagem\" | futebol inglês | ge\\']'"
      ]
     },
     "execution_count": 9,
     "metadata": {},
     "output_type": "execute_result"
    }
   ],
   "source": [
    "df['Título'][610]"
   ]
  },
  {
   "cell_type": "code",
   "execution_count": 10,
   "metadata": {},
   "outputs": [
    {
     "data": {
      "text/plain": [
       "'[\\'Palmeiras estreia no mata-mata diante da \"sombra\" Ferroviária no Allianz Parque | palmeiras | ge\\']'"
      ]
     },
     "execution_count": 10,
     "metadata": {},
     "output_type": "execute_result"
    }
   ],
   "source": [
    "df['Título'][650]"
   ]
  },
  {
   "cell_type": "code",
   "execution_count": 32,
   "metadata": {},
   "outputs": [
    {
     "data": {
      "text/plain": [
       "0"
      ]
     },
     "execution_count": 32,
     "metadata": {},
     "output_type": "execute_result"
    }
   ],
   "source": [
    "df['Título'].str.contains('\\xa0\\xa0').astype(int).sum()"
   ]
  },
  {
   "cell_type": "code",
   "execution_count": 41,
   "metadata": {},
   "outputs": [
    {
     "data": {
      "text/plain": [
       "0"
      ]
     },
     "execution_count": 41,
     "metadata": {},
     "output_type": "execute_result"
    }
   ],
   "source": [
    "df['Título'].str.contains('\\xa0').astype(int).sum()"
   ]
  },
  {
   "cell_type": "code",
   "execution_count": 33,
   "metadata": {},
   "outputs": [
    {
     "data": {
      "text/plain": [
       "8"
      ]
     },
     "execution_count": 33,
     "metadata": {},
     "output_type": "execute_result"
    }
   ],
   "source": [
    "df['Título'].str.contains('página não encontrada').astype(int).sum()"
   ]
  },
  {
   "cell_type": "code",
   "execution_count": 34,
   "metadata": {},
   "outputs": [
    {
     "data": {
      "text/plain": [
       "Int64Index([1, 424, 615, 1091, 1207, 1217, 1316, 1324], dtype='int64')"
      ]
     },
     "execution_count": 34,
     "metadata": {},
     "output_type": "execute_result"
    }
   ],
   "source": [
    "df.url[df['Título'].str.contains('página não encontrada')].index"
   ]
  },
  {
   "cell_type": "code",
   "execution_count": 40,
   "metadata": {},
   "outputs": [
    {
     "data": {
      "text/plain": [
       "Int64Index([  10,   16,   17,   18,   19,   21,   22,   23,   25,   27,\n",
       "            ...\n",
       "            1483, 1485, 1486, 1488, 1490, 1491, 1493, 1494, 1498, 1499],\n",
       "           dtype='int64', length=412)"
      ]
     },
     "execution_count": 40,
     "metadata": {},
     "output_type": "execute_result"
    }
   ],
   "source": [
    "df.url[df.Conteudo.str.contains('\\xa0\\xa0')].index"
   ]
  },
  {
   "cell_type": "code",
   "execution_count": 43,
   "metadata": {},
   "outputs": [],
   "source": [
    "df_aux = pd.DataFrame(df[df.Conteudo.str.contains('\\xa0\\xa0')])"
   ]
  },
  {
   "cell_type": "code",
   "execution_count": 48,
   "metadata": {},
   "outputs": [
    {
     "data": {
      "text/html": [
       "<div>\n",
       "<style scoped>\n",
       "    .dataframe tbody tr th:only-of-type {\n",
       "        vertical-align: middle;\n",
       "    }\n",
       "\n",
       "    .dataframe tbody tr th {\n",
       "        vertical-align: top;\n",
       "    }\n",
       "\n",
       "    .dataframe thead th {\n",
       "        text-align: right;\n",
       "    }\n",
       "</style>\n",
       "<table border=\"1\" class=\"dataframe\">\n",
       "  <thead>\n",
       "    <tr style=\"text-align: right;\">\n",
       "      <th></th>\n",
       "      <th>Unnamed: 0</th>\n",
       "      <th>url</th>\n",
       "      <th>Título</th>\n",
       "      <th>Conteudo</th>\n",
       "    </tr>\n",
       "  </thead>\n",
       "  <tbody>\n",
       "    <tr>\n",
       "      <th>10</th>\n",
       "      <td>0</td>\n",
       "      <td>https://g1.globo.com/g1-em-1-minuto/playlist/v...</td>\n",
       "      <td>['VÍDEOS: G1 em 1 Minuto, com Paula Paiva, Lui...</td>\n",
       "      <td></td>\n",
       "    </tr>\n",
       "    <tr>\n",
       "      <th>16</th>\n",
       "      <td>0</td>\n",
       "      <td>https://g1.globo.com/g1-em-1-minuto/playlist/v...</td>\n",
       "      <td>['VÍDEOS: G1 em 1 Minuto, com Paula Paiva, Lui...</td>\n",
       "      <td></td>\n",
       "    </tr>\n",
       "    <tr>\n",
       "      <th>17</th>\n",
       "      <td>0</td>\n",
       "      <td>https://g1.globo.com/g1-em-1-minuto/playlist/v...</td>\n",
       "      <td>['VÍDEOS: G1 em 1 Minuto, com Paula Paiva, Lui...</td>\n",
       "      <td></td>\n",
       "    </tr>\n",
       "    <tr>\n",
       "      <th>18</th>\n",
       "      <td>0</td>\n",
       "      <td>https://g1.globo.com/g1-em-1-minuto/playlist/v...</td>\n",
       "      <td>['VÍDEOS: G1 em 1 Minuto, com Paula Paiva, Lui...</td>\n",
       "      <td></td>\n",
       "    </tr>\n",
       "    <tr>\n",
       "      <th>19</th>\n",
       "      <td>0</td>\n",
       "      <td>https://g1.globo.com/g1-em-1-minuto/playlist/v...</td>\n",
       "      <td>['VÍDEOS: G1 em 1 Minuto, com Paula Paiva, Lui...</td>\n",
       "      <td></td>\n",
       "    </tr>\n",
       "  </tbody>\n",
       "</table>\n",
       "</div>"
      ],
      "text/plain": [
       "    Unnamed: 0                                                url  \\\n",
       "10           0  https://g1.globo.com/g1-em-1-minuto/playlist/v...   \n",
       "16           0  https://g1.globo.com/g1-em-1-minuto/playlist/v...   \n",
       "17           0  https://g1.globo.com/g1-em-1-minuto/playlist/v...   \n",
       "18           0  https://g1.globo.com/g1-em-1-minuto/playlist/v...   \n",
       "19           0  https://g1.globo.com/g1-em-1-minuto/playlist/v...   \n",
       "\n",
       "                                               Título Conteudo  \n",
       "10  ['VÍDEOS: G1 em 1 Minuto, com Paula Paiva, Lui...           \n",
       "16  ['VÍDEOS: G1 em 1 Minuto, com Paula Paiva, Lui...           \n",
       "17  ['VÍDEOS: G1 em 1 Minuto, com Paula Paiva, Lui...           \n",
       "18  ['VÍDEOS: G1 em 1 Minuto, com Paula Paiva, Lui...           \n",
       "19  ['VÍDEOS: G1 em 1 Minuto, com Paula Paiva, Lui...           "
      ]
     },
     "execution_count": 48,
     "metadata": {},
     "output_type": "execute_result"
    }
   ],
   "source": [
    "df_aux.head()"
   ]
  },
  {
   "cell_type": "code",
   "execution_count": 46,
   "metadata": {},
   "outputs": [
    {
     "data": {
      "text/plain": [
       "array([\"['VÍDEOS: G1 em 1 Minuto, com Paula Paiva, Luiza Tenente, Carol Prado e Gabi Gonçalves', 'G1', 'G1']\",\n",
       "       \"['Eleição nos EUA: veja as análises dos comentaristas', 'G1', 'G1']\",\n",
       "       \"['GloboNews: últimos vídeos', 'G1', 'G1']\",\n",
       "       \"['VÍDEOS: mais assistidos do Pequenas Empresas &amp; Grandes Negócios', 'G1', 'G1']\",\n",
       "       \"['VÍDEOS: EPTV 1 Ribeirão Preto de sábado, 7 de novembro de 2020', 'G1', 'G1']\",\n",
       "       \"['Monitor da Violência: veja todos os vídeos', 'G1', 'G1']\",\n",
       "       \"['VÍDEOS: EPTV1 Ribeirão Preto de sexta-feira, 6 de novembro de 2020', 'G1', 'G1']\",\n",
       "       \"['VÍDEOS: coronavírus, perguntas e respostas', 'G1', 'G1']\",\n",
       "       \"['VÍDEOS: Diário TV 1ª Edição de sábado, 7 de novembro', 'G1', 'G1']\",\n",
       "       \"['VÍDEOS: Tudo sobre São Paulo', 'G1', 'G1']\",\n",
       "       \"['VÍDEOS: Semana Pop explica temas do entretenimento', 'G1', 'G1']\",\n",
       "       \"['VÍDEOS: Veja tudo sobre as eleições americanas na GloboNews', 'G1', 'G1']\",\n",
       "       \"['Amor pelo Sport na recuperação de um AVC e surfe de crianças com espectro autista: veja vídeos']\",\n",
       "       \"['gshow.com', 'Gshow']\"], dtype=object)"
      ]
     },
     "execution_count": 46,
     "metadata": {},
     "output_type": "execute_result"
    }
   ],
   "source": [
    "df_aux.Título.unique()"
   ]
  },
  {
   "cell_type": "code",
   "execution_count": 51,
   "metadata": {},
   "outputs": [
    {
     "data": {
      "text/plain": [
       "Int64Index([], dtype='int64')"
      ]
     },
     "execution_count": 51,
     "metadata": {},
     "output_type": "execute_result"
    }
   ],
   "source": [
    "df[df['Conteudo'] == '|'].index"
   ]
  },
  {
   "cell_type": "code",
   "execution_count": 52,
   "metadata": {},
   "outputs": [
    {
     "data": {
      "text/html": [
       "<div>\n",
       "<style scoped>\n",
       "    .dataframe tbody tr th:only-of-type {\n",
       "        vertical-align: middle;\n",
       "    }\n",
       "\n",
       "    .dataframe tbody tr th {\n",
       "        vertical-align: top;\n",
       "    }\n",
       "\n",
       "    .dataframe thead th {\n",
       "        text-align: right;\n",
       "    }\n",
       "</style>\n",
       "<table border=\"1\" class=\"dataframe\">\n",
       "  <thead>\n",
       "    <tr style=\"text-align: right;\">\n",
       "      <th></th>\n",
       "      <th>Unnamed: 0</th>\n",
       "      <th>url</th>\n",
       "      <th>Título</th>\n",
       "      <th>Conteudo</th>\n",
       "    </tr>\n",
       "  </thead>\n",
       "  <tbody>\n",
       "    <tr>\n",
       "      <th>1480</th>\n",
       "      <td>0</td>\n",
       "      <td>https://gshow.globo.com/novelas/deus-salve-o-r...</td>\n",
       "      <td>['gshow.com', 'Gshow']</td>\n",
       "      <td></td>\n",
       "    </tr>\n",
       "    <tr>\n",
       "      <th>1481</th>\n",
       "      <td>0</td>\n",
       "      <td>https://gshow.globo.com/Rede-Bahia/conexao-bah...</td>\n",
       "      <td>['gshow.com', 'Gshow']</td>\n",
       "      <td></td>\n",
       "    </tr>\n",
       "    <tr>\n",
       "      <th>1482</th>\n",
       "      <td>0</td>\n",
       "      <td>https://gshow.globo.com/novelas/malhacao/playl...</td>\n",
       "      <td>['gshow.com', 'Gshow']</td>\n",
       "      <td></td>\n",
       "    </tr>\n",
       "    <tr>\n",
       "      <th>1483</th>\n",
       "      <td>0</td>\n",
       "      <td>https://gshow.globo.com/novelas/malhacao/edica...</td>\n",
       "      <td>['gshow.com', 'Gshow']</td>\n",
       "      <td></td>\n",
       "    </tr>\n",
       "    <tr>\n",
       "      <th>1484</th>\n",
       "      <td>0</td>\n",
       "      <td>https://gshow.globo.com/programas/domingao-do-...</td>\n",
       "      <td>[\"'Troféu Domingão 2017': Conheça os recordist...</td>\n",
       "      <td>Paolla Oliveira e Juliana Paes concorrem na c...</td>\n",
       "    </tr>\n",
       "    <tr>\n",
       "      <th>1485</th>\n",
       "      <td>0</td>\n",
       "      <td>https://gshow.globo.com/novelas/orgulho-e-paix...</td>\n",
       "      <td>['gshow.com', 'Gshow']</td>\n",
       "      <td></td>\n",
       "    </tr>\n",
       "    <tr>\n",
       "      <th>1486</th>\n",
       "      <td>0</td>\n",
       "      <td>https://gshow.globo.com/programas/e-de-casa/ep...</td>\n",
       "      <td>['gshow.com', 'Gshow']</td>\n",
       "      <td></td>\n",
       "    </tr>\n",
       "    <tr>\n",
       "      <th>1487</th>\n",
       "      <td>0</td>\n",
       "      <td>https://gshow.globo.com/realities/bbb/ep/facil...</td>\n",
       "      <td>['Banheira do BBB20 é ou não um mimo que você ...</td>\n",
       "      <td>Por Aqualax  Se tem um lugar que caiu no gost...</td>\n",
       "    </tr>\n",
       "    <tr>\n",
       "      <th>1488</th>\n",
       "      <td>0</td>\n",
       "      <td>https://gshow.globo.com/programas/e-de-casa/pl...</td>\n",
       "      <td>['gshow.com', 'Gshow']</td>\n",
       "      <td></td>\n",
       "    </tr>\n",
       "    <tr>\n",
       "      <th>1489</th>\n",
       "      <td>0</td>\n",
       "      <td>https://gshow.globo.com/programas/domingao-do-...</td>\n",
       "      <td>[\"Bailarina do Faustão, Mayara Araújo celebra ...</td>\n",
       "      <td>Mayara Araújo, bailarina do 'Domingão' conta ...</td>\n",
       "    </tr>\n",
       "    <tr>\n",
       "      <th>1490</th>\n",
       "      <td>0</td>\n",
       "      <td>https://gshow.globo.com/novelas/avenida-brasil...</td>\n",
       "      <td>['gshow.com', 'Gshow']</td>\n",
       "      <td></td>\n",
       "    </tr>\n",
       "    <tr>\n",
       "      <th>1491</th>\n",
       "      <td>0</td>\n",
       "      <td>https://gshow.globo.com/programas/e-de-casa/pl...</td>\n",
       "      <td>['gshow.com', 'Gshow']</td>\n",
       "      <td></td>\n",
       "    </tr>\n",
       "    <tr>\n",
       "      <th>1492</th>\n",
       "      <td>0</td>\n",
       "      <td>https://gshow.globo.com/podcast/dialogos-virtu...</td>\n",
       "      <td>[\"Dennison Ramalho fala sobre cinema de terror...</td>\n",
       "      <td>Dennison Ramalho fala sobre o universo do ter...</td>\n",
       "    </tr>\n",
       "    <tr>\n",
       "      <th>1493</th>\n",
       "      <td>0</td>\n",
       "      <td>https://gshow.globo.com/novelas/malhacao/edica...</td>\n",
       "      <td>['gshow.com', 'Gshow']</td>\n",
       "      <td></td>\n",
       "    </tr>\n",
       "    <tr>\n",
       "      <th>1494</th>\n",
       "      <td>0</td>\n",
       "      <td>https://gshow.globo.com/RPC/mechama/playlist/r...</td>\n",
       "      <td>['gshow.com', 'Gshow']</td>\n",
       "      <td></td>\n",
       "    </tr>\n",
       "    <tr>\n",
       "      <th>1495</th>\n",
       "      <td>0</td>\n",
       "      <td>https://gshow.globo.com/humor/sterblitch-nao-t...</td>\n",
       "      <td>[\"Hugo Gloss relembra dia em que Beyoncé caiu ...</td>\n",
       "      <td>Hugo Gloss participou do 'Sterblitch Não Tem ...</td>\n",
       "    </tr>\n",
       "    <tr>\n",
       "      <th>1496</th>\n",
       "      <td>0</td>\n",
       "      <td>https://gshow.globo.com/RPC/Estudio-C/cozinha-...</td>\n",
       "      <td>['Veja como fazer aquela pipoca com manteiga i...</td>\n",
       "      <td>Salvo em seu Livro de Receitas!   Vídeos para ...</td>\n",
       "    </tr>\n",
       "    <tr>\n",
       "      <th>1497</th>\n",
       "      <td>0</td>\n",
       "      <td>https://gshow.globo.com/novelas/flor-do-caribe...</td>\n",
       "      <td>['Cristal vai até a casa de Ester e confessa q...</td>\n",
       "      <td>Cristal (Moro Anghileri) revela planos de Alb...</td>\n",
       "    </tr>\n",
       "    <tr>\n",
       "      <th>1498</th>\n",
       "      <td>0</td>\n",
       "      <td>https://gshow.globo.com/novelas/malhacao/playl...</td>\n",
       "      <td>['gshow.com', 'Gshow']</td>\n",
       "      <td></td>\n",
       "    </tr>\n",
       "    <tr>\n",
       "      <th>1499</th>\n",
       "      <td>0</td>\n",
       "      <td>https://gshow.globo.com/RPC/mechama/playlist/r...</td>\n",
       "      <td>['gshow.com', 'Gshow']</td>\n",
       "      <td></td>\n",
       "    </tr>\n",
       "  </tbody>\n",
       "</table>\n",
       "</div>"
      ],
      "text/plain": [
       "      Unnamed: 0                                                url  \\\n",
       "1480           0  https://gshow.globo.com/novelas/deus-salve-o-r...   \n",
       "1481           0  https://gshow.globo.com/Rede-Bahia/conexao-bah...   \n",
       "1482           0  https://gshow.globo.com/novelas/malhacao/playl...   \n",
       "1483           0  https://gshow.globo.com/novelas/malhacao/edica...   \n",
       "1484           0  https://gshow.globo.com/programas/domingao-do-...   \n",
       "1485           0  https://gshow.globo.com/novelas/orgulho-e-paix...   \n",
       "1486           0  https://gshow.globo.com/programas/e-de-casa/ep...   \n",
       "1487           0  https://gshow.globo.com/realities/bbb/ep/facil...   \n",
       "1488           0  https://gshow.globo.com/programas/e-de-casa/pl...   \n",
       "1489           0  https://gshow.globo.com/programas/domingao-do-...   \n",
       "1490           0  https://gshow.globo.com/novelas/avenida-brasil...   \n",
       "1491           0  https://gshow.globo.com/programas/e-de-casa/pl...   \n",
       "1492           0  https://gshow.globo.com/podcast/dialogos-virtu...   \n",
       "1493           0  https://gshow.globo.com/novelas/malhacao/edica...   \n",
       "1494           0  https://gshow.globo.com/RPC/mechama/playlist/r...   \n",
       "1495           0  https://gshow.globo.com/humor/sterblitch-nao-t...   \n",
       "1496           0  https://gshow.globo.com/RPC/Estudio-C/cozinha-...   \n",
       "1497           0  https://gshow.globo.com/novelas/flor-do-caribe...   \n",
       "1498           0  https://gshow.globo.com/novelas/malhacao/playl...   \n",
       "1499           0  https://gshow.globo.com/RPC/mechama/playlist/r...   \n",
       "\n",
       "                                                 Título  \\\n",
       "1480                             ['gshow.com', 'Gshow']   \n",
       "1481                             ['gshow.com', 'Gshow']   \n",
       "1482                             ['gshow.com', 'Gshow']   \n",
       "1483                             ['gshow.com', 'Gshow']   \n",
       "1484  [\"'Troféu Domingão 2017': Conheça os recordist...   \n",
       "1485                             ['gshow.com', 'Gshow']   \n",
       "1486                             ['gshow.com', 'Gshow']   \n",
       "1487  ['Banheira do BBB20 é ou não um mimo que você ...   \n",
       "1488                             ['gshow.com', 'Gshow']   \n",
       "1489  [\"Bailarina do Faustão, Mayara Araújo celebra ...   \n",
       "1490                             ['gshow.com', 'Gshow']   \n",
       "1491                             ['gshow.com', 'Gshow']   \n",
       "1492  [\"Dennison Ramalho fala sobre cinema de terror...   \n",
       "1493                             ['gshow.com', 'Gshow']   \n",
       "1494                             ['gshow.com', 'Gshow']   \n",
       "1495  [\"Hugo Gloss relembra dia em que Beyoncé caiu ...   \n",
       "1496  ['Veja como fazer aquela pipoca com manteiga i...   \n",
       "1497  ['Cristal vai até a casa de Ester e confessa q...   \n",
       "1498                             ['gshow.com', 'Gshow']   \n",
       "1499                             ['gshow.com', 'Gshow']   \n",
       "\n",
       "                                               Conteudo  \n",
       "1480                                                     \n",
       "1481                                                     \n",
       "1482                                                     \n",
       "1483                                                     \n",
       "1484   Paolla Oliveira e Juliana Paes concorrem na c...  \n",
       "1485                                                     \n",
       "1486                                                     \n",
       "1487   Por Aqualax  Se tem um lugar que caiu no gost...  \n",
       "1488                                                     \n",
       "1489   Mayara Araújo, bailarina do 'Domingão' conta ...  \n",
       "1490                                                     \n",
       "1491                                                     \n",
       "1492   Dennison Ramalho fala sobre o universo do ter...  \n",
       "1493                                                     \n",
       "1494                                                     \n",
       "1495   Hugo Gloss participou do 'Sterblitch Não Tem ...  \n",
       "1496  Salvo em seu Livro de Receitas!   Vídeos para ...  \n",
       "1497   Cristal (Moro Anghileri) revela planos de Alb...  \n",
       "1498                                                     \n",
       "1499                                                     "
      ]
     },
     "execution_count": 52,
     "metadata": {},
     "output_type": "execute_result"
    }
   ],
   "source": [
    "df.tail(20)"
   ]
  },
  {
   "cell_type": "code",
   "execution_count": 53,
   "metadata": {},
   "outputs": [
    {
     "data": {
      "text/html": [
       "<div>\n",
       "<style scoped>\n",
       "    .dataframe tbody tr th:only-of-type {\n",
       "        vertical-align: middle;\n",
       "    }\n",
       "\n",
       "    .dataframe tbody tr th {\n",
       "        vertical-align: top;\n",
       "    }\n",
       "\n",
       "    .dataframe thead th {\n",
       "        text-align: right;\n",
       "    }\n",
       "</style>\n",
       "<table border=\"1\" class=\"dataframe\">\n",
       "  <thead>\n",
       "    <tr style=\"text-align: right;\">\n",
       "      <th></th>\n",
       "      <th>Unnamed: 0</th>\n",
       "      <th>url</th>\n",
       "      <th>Título</th>\n",
       "      <th>Conteudo</th>\n",
       "    </tr>\n",
       "  </thead>\n",
       "  <tbody>\n",
       "    <tr>\n",
       "      <th>1001</th>\n",
       "      <td>0</td>\n",
       "      <td>https://gshow.globo.com/humor/playlist/desprog...</td>\n",
       "      <td>['gshow.com', 'Gshow']</td>\n",
       "      <td></td>\n",
       "    </tr>\n",
       "    <tr>\n",
       "      <th>1002</th>\n",
       "      <td>0</td>\n",
       "      <td>https://gshow.globo.com/TV-Rio-Sul/sabores-daq...</td>\n",
       "      <td>['Luz, câmera, ação! | Sabores Daqui | Gshow',...</td>\n",
       "      <td>Vídeos para você</td>\n",
       "    </tr>\n",
       "    <tr>\n",
       "      <th>1003</th>\n",
       "      <td>0</td>\n",
       "      <td>https://gshow.globo.com/TV-Rio-Sul/Rio-Sul-Rev...</td>\n",
       "      <td>[\"'Você no Revista': participe do programa con...</td>\n",
       "      <td>Vídeos para você</td>\n",
       "    </tr>\n",
       "    <tr>\n",
       "      <th>1004</th>\n",
       "      <td>0</td>\n",
       "      <td>https://gshow.globo.com/receitas-gshow/categor...</td>\n",
       "      <td>['Diet | dietas | GSHOW', 'gshow.com']</td>\n",
       "      <td>Em breve!Estamos providenciando conteúdo dessa...</td>\n",
       "    </tr>\n",
       "    <tr>\n",
       "      <th>1005</th>\n",
       "      <td>0</td>\n",
       "      <td>https://gshow.globo.com/receitas-gshow/receita...</td>\n",
       "      <td>['Biscoito de aveia com geleia | Receitas Gsho...</td>\n",
       "      <td>Salvo em seu Livro de Receitas! — Foto: Globo ...</td>\n",
       "    </tr>\n",
       "    <tr>\n",
       "      <th>1006</th>\n",
       "      <td>0</td>\n",
       "      <td>https://gshow.globo.com/humor/playlist/desprog...</td>\n",
       "      <td>['gshow.com', 'Gshow']</td>\n",
       "      <td></td>\n",
       "    </tr>\n",
       "    <tr>\n",
       "      <th>1007</th>\n",
       "      <td>0</td>\n",
       "      <td>https://gshow.globo.com/RPC/Estudio-C/noticia/...</td>\n",
       "      <td>[\"Faça sua inscrição para participar da platei...</td>\n",
       "      <td>• A idade mínima permitida é de 12 anos. Cria...</td>\n",
       "    </tr>\n",
       "    <tr>\n",
       "      <th>1008</th>\n",
       "      <td>0</td>\n",
       "      <td>https://gshow.globo.com/Rede-Bahia/sessao-pet/...</td>\n",
       "      <td>['Assista ao Sessão Pet de sábado, 7/11 | Sess...</td>\n",
       "      <td>Confira o Sessão Pet de 07/11/2020, na íntegr...</td>\n",
       "    </tr>\n",
       "    <tr>\n",
       "      <th>1009</th>\n",
       "      <td>0</td>\n",
       "      <td>https://gshow.globo.com/Famosos/em-casa-com-ba...</td>\n",
       "      <td>['Criador do Nós do Morro revela desafio para ...</td>\n",
       "      <td>Em Casa Com Babu: Episódio - Carreira  Babu t...</td>\n",
       "    </tr>\n",
       "    <tr>\n",
       "      <th>1010</th>\n",
       "      <td>0</td>\n",
       "      <td>https://gshow.globo.com/humor/playlist/desprog...</td>\n",
       "      <td>['gshow.com', 'Gshow']</td>\n",
       "      <td></td>\n",
       "    </tr>\n",
       "    <tr>\n",
       "      <th>1011</th>\n",
       "      <td>0</td>\n",
       "      <td>https://gshow.globo.com/TV-Sergipe/Combinado/n...</td>\n",
       "      <td>[\"Fale com o 'Combinado' | Combinado | Gshow\",...</td>\n",
       "      <td>Menilson Filho — Foto: TV Sergipe  Tire suas ...</td>\n",
       "    </tr>\n",
       "    <tr>\n",
       "      <th>1012</th>\n",
       "      <td>0</td>\n",
       "      <td>https://gshow.globo.com/horoscopo-etc/noticia/...</td>\n",
       "      <td>['Ernesto Pricelli e a carto O Mago | Horoscop...</td>\n",
       "      <td>Por Zoe de Camaris/Personare Vídeos para você</td>\n",
       "    </tr>\n",
       "    <tr>\n",
       "      <th>1013</th>\n",
       "      <td>0</td>\n",
       "      <td>https://gshow.globo.com/podcast/simples-assim/...</td>\n",
       "      <td>['Podcast Simples Assim: Suzana Pires e Danton...</td>\n",
       "      <td>“O mais legal, para mim, é que hoje tenho um ...</td>\n",
       "    </tr>\n",
       "    <tr>\n",
       "      <th>1014</th>\n",
       "      <td>0</td>\n",
       "      <td>https://gshow.globo.com/Famosos/em-casa-com-ba...</td>\n",
       "      <td>['Paulo Vieira fala sobre censura na comédia: ...</td>\n",
       "      <td>Em Casa Com Babu: Episódio - Respeito  Babu c...</td>\n",
       "    </tr>\n",
       "    <tr>\n",
       "      <th>1015</th>\n",
       "      <td>0</td>\n",
       "      <td>https://gshow.globo.com/Famosos/em-casa-com-ba...</td>\n",
       "      <td>['Babu Santana fala de dilemas na carreira e c...</td>\n",
       "      <td>Em Casa Com Babu: Episódio - Carreira  Babu s...</td>\n",
       "    </tr>\n",
       "    <tr>\n",
       "      <th>1016</th>\n",
       "      <td>0</td>\n",
       "      <td>https://gshow.globo.com/receitas-gshow/noticia...</td>\n",
       "      <td>['Saiba como fazer as 10 receitas mais buscada...</td>\n",
       "      <td>Bolinho de Bacalhau Sem Mistério — Foto: TV G...</td>\n",
       "    </tr>\n",
       "    <tr>\n",
       "      <th>1017</th>\n",
       "      <td>0</td>\n",
       "      <td>https://gshow.globo.com/artistas/paulo-vieira/</td>\n",
       "      <td>['Paulo Vieira | Artistas | GSHOW', 'gshow.com']</td>\n",
       "      <td>Em breve!Estamos providenciando conteúdo dessa...</td>\n",
       "    </tr>\n",
       "    <tr>\n",
       "      <th>1018</th>\n",
       "      <td>0</td>\n",
       "      <td>https://gshow.globo.com/busca/?q=o+melhor+hamb...</td>\n",
       "      <td>['Resultado da busca por Receitas de o melhor ...</td>\n",
       "      <td>\\n\\n1h 40min | 8 porções\\nMassa: ½ kg gordura ...</td>\n",
       "    </tr>\n",
       "    <tr>\n",
       "      <th>1019</th>\n",
       "      <td>0</td>\n",
       "      <td>https://gshow.globo.com/RBS-TV-RS/Galpao-Criou...</td>\n",
       "      <td>[\"Sobre o 'Galpão Crioulo' | Galpão Crioulo | ...</td>\n",
       "      <td>Neto Fagundes e Shana Müller apresentam o 'Ga...</td>\n",
       "    </tr>\n",
       "  </tbody>\n",
       "</table>\n",
       "</div>"
      ],
      "text/plain": [
       "      Unnamed: 0                                                url  \\\n",
       "1001           0  https://gshow.globo.com/humor/playlist/desprog...   \n",
       "1002           0  https://gshow.globo.com/TV-Rio-Sul/sabores-daq...   \n",
       "1003           0  https://gshow.globo.com/TV-Rio-Sul/Rio-Sul-Rev...   \n",
       "1004           0  https://gshow.globo.com/receitas-gshow/categor...   \n",
       "1005           0  https://gshow.globo.com/receitas-gshow/receita...   \n",
       "1006           0  https://gshow.globo.com/humor/playlist/desprog...   \n",
       "1007           0  https://gshow.globo.com/RPC/Estudio-C/noticia/...   \n",
       "1008           0  https://gshow.globo.com/Rede-Bahia/sessao-pet/...   \n",
       "1009           0  https://gshow.globo.com/Famosos/em-casa-com-ba...   \n",
       "1010           0  https://gshow.globo.com/humor/playlist/desprog...   \n",
       "1011           0  https://gshow.globo.com/TV-Sergipe/Combinado/n...   \n",
       "1012           0  https://gshow.globo.com/horoscopo-etc/noticia/...   \n",
       "1013           0  https://gshow.globo.com/podcast/simples-assim/...   \n",
       "1014           0  https://gshow.globo.com/Famosos/em-casa-com-ba...   \n",
       "1015           0  https://gshow.globo.com/Famosos/em-casa-com-ba...   \n",
       "1016           0  https://gshow.globo.com/receitas-gshow/noticia...   \n",
       "1017           0     https://gshow.globo.com/artistas/paulo-vieira/   \n",
       "1018           0  https://gshow.globo.com/busca/?q=o+melhor+hamb...   \n",
       "1019           0  https://gshow.globo.com/RBS-TV-RS/Galpao-Criou...   \n",
       "\n",
       "                                                 Título  \\\n",
       "1001                             ['gshow.com', 'Gshow']   \n",
       "1002  ['Luz, câmera, ação! | Sabores Daqui | Gshow',...   \n",
       "1003  [\"'Você no Revista': participe do programa con...   \n",
       "1004             ['Diet | dietas | GSHOW', 'gshow.com']   \n",
       "1005  ['Biscoito de aveia com geleia | Receitas Gsho...   \n",
       "1006                             ['gshow.com', 'Gshow']   \n",
       "1007  [\"Faça sua inscrição para participar da platei...   \n",
       "1008  ['Assista ao Sessão Pet de sábado, 7/11 | Sess...   \n",
       "1009  ['Criador do Nós do Morro revela desafio para ...   \n",
       "1010                             ['gshow.com', 'Gshow']   \n",
       "1011  [\"Fale com o 'Combinado' | Combinado | Gshow\",...   \n",
       "1012  ['Ernesto Pricelli e a carto O Mago | Horoscop...   \n",
       "1013  ['Podcast Simples Assim: Suzana Pires e Danton...   \n",
       "1014  ['Paulo Vieira fala sobre censura na comédia: ...   \n",
       "1015  ['Babu Santana fala de dilemas na carreira e c...   \n",
       "1016  ['Saiba como fazer as 10 receitas mais buscada...   \n",
       "1017   ['Paulo Vieira | Artistas | GSHOW', 'gshow.com']   \n",
       "1018  ['Resultado da busca por Receitas de o melhor ...   \n",
       "1019  [\"Sobre o 'Galpão Crioulo' | Galpão Crioulo | ...   \n",
       "\n",
       "                                               Conteudo  \n",
       "1001                                                     \n",
       "1002                                   Vídeos para você  \n",
       "1003                                   Vídeos para você  \n",
       "1004  Em breve!Estamos providenciando conteúdo dessa...  \n",
       "1005  Salvo em seu Livro de Receitas! — Foto: Globo ...  \n",
       "1006                                                     \n",
       "1007   • A idade mínima permitida é de 12 anos. Cria...  \n",
       "1008   Confira o Sessão Pet de 07/11/2020, na íntegr...  \n",
       "1009   Em Casa Com Babu: Episódio - Carreira  Babu t...  \n",
       "1010                                                     \n",
       "1011   Menilson Filho — Foto: TV Sergipe  Tire suas ...  \n",
       "1012      Por Zoe de Camaris/Personare Vídeos para você  \n",
       "1013   “O mais legal, para mim, é que hoje tenho um ...  \n",
       "1014   Em Casa Com Babu: Episódio - Respeito  Babu c...  \n",
       "1015   Em Casa Com Babu: Episódio - Carreira  Babu s...  \n",
       "1016   Bolinho de Bacalhau Sem Mistério — Foto: TV G...  \n",
       "1017  Em breve!Estamos providenciando conteúdo dessa...  \n",
       "1018  \\n\\n1h 40min | 8 porções\\nMassa: ½ kg gordura ...  \n",
       "1019   Neto Fagundes e Shana Müller apresentam o 'Ga...  "
      ]
     },
     "execution_count": 53,
     "metadata": {},
     "output_type": "execute_result"
    }
   ],
   "source": [
    "df[1001:1020]"
   ]
  },
  {
   "cell_type": "code",
   "execution_count": 56,
   "metadata": {},
   "outputs": [
    {
     "data": {
      "text/plain": [
       "'https://g1.globo.com/ce/ceara/noticia/2020/11/07/motorista-perde-controle-da-direcao-e-carro-destroi-parte-de-muro-de-escola-em-fortaleza.ghtml'"
      ]
     },
     "execution_count": 56,
     "metadata": {},
     "output_type": "execute_result"
    }
   ],
   "source": [
    "df.url[3]"
   ]
  },
  {
   "cell_type": "code",
   "execution_count": 58,
   "metadata": {},
   "outputs": [
    {
     "data": {
      "text/html": [
       "<div>\n",
       "<style scoped>\n",
       "    .dataframe tbody tr th:only-of-type {\n",
       "        vertical-align: middle;\n",
       "    }\n",
       "\n",
       "    .dataframe tbody tr th {\n",
       "        vertical-align: top;\n",
       "    }\n",
       "\n",
       "    .dataframe thead th {\n",
       "        text-align: right;\n",
       "    }\n",
       "</style>\n",
       "<table border=\"1\" class=\"dataframe\">\n",
       "  <thead>\n",
       "    <tr style=\"text-align: right;\">\n",
       "      <th></th>\n",
       "      <th>Unnamed: 0</th>\n",
       "      <th>url</th>\n",
       "      <th>Título</th>\n",
       "      <th>Conteudo</th>\n",
       "    </tr>\n",
       "  </thead>\n",
       "  <tbody>\n",
       "    <tr>\n",
       "      <th>1495</th>\n",
       "      <td>0</td>\n",
       "      <td>https://gshow.globo.com/humor/sterblitch-nao-t...</td>\n",
       "      <td>[\"Hugo Gloss relembra dia em que Beyoncé caiu ...</td>\n",
       "      <td>Hugo Gloss participou do 'Sterblitch Não Tem ...</td>\n",
       "    </tr>\n",
       "    <tr>\n",
       "      <th>1496</th>\n",
       "      <td>0</td>\n",
       "      <td>https://gshow.globo.com/RPC/Estudio-C/cozinha-...</td>\n",
       "      <td>['Veja como fazer aquela pipoca com manteiga i...</td>\n",
       "      <td>Salvo em seu Livro de Receitas!   Vídeos para ...</td>\n",
       "    </tr>\n",
       "    <tr>\n",
       "      <th>1497</th>\n",
       "      <td>0</td>\n",
       "      <td>https://gshow.globo.com/novelas/flor-do-caribe...</td>\n",
       "      <td>['Cristal vai até a casa de Ester e confessa q...</td>\n",
       "      <td>Cristal (Moro Anghileri) revela planos de Alb...</td>\n",
       "    </tr>\n",
       "    <tr>\n",
       "      <th>1498</th>\n",
       "      <td>0</td>\n",
       "      <td>https://gshow.globo.com/novelas/malhacao/playl...</td>\n",
       "      <td>['gshow.com', 'Gshow']</td>\n",
       "      <td></td>\n",
       "    </tr>\n",
       "    <tr>\n",
       "      <th>1499</th>\n",
       "      <td>0</td>\n",
       "      <td>https://gshow.globo.com/RPC/mechama/playlist/r...</td>\n",
       "      <td>['gshow.com', 'Gshow']</td>\n",
       "      <td></td>\n",
       "    </tr>\n",
       "  </tbody>\n",
       "</table>\n",
       "</div>"
      ],
      "text/plain": [
       "      Unnamed: 0                                                url  \\\n",
       "1495           0  https://gshow.globo.com/humor/sterblitch-nao-t...   \n",
       "1496           0  https://gshow.globo.com/RPC/Estudio-C/cozinha-...   \n",
       "1497           0  https://gshow.globo.com/novelas/flor-do-caribe...   \n",
       "1498           0  https://gshow.globo.com/novelas/malhacao/playl...   \n",
       "1499           0  https://gshow.globo.com/RPC/mechama/playlist/r...   \n",
       "\n",
       "                                                 Título  \\\n",
       "1495  [\"Hugo Gloss relembra dia em que Beyoncé caiu ...   \n",
       "1496  ['Veja como fazer aquela pipoca com manteiga i...   \n",
       "1497  ['Cristal vai até a casa de Ester e confessa q...   \n",
       "1498                             ['gshow.com', 'Gshow']   \n",
       "1499                             ['gshow.com', 'Gshow']   \n",
       "\n",
       "                                               Conteudo  \n",
       "1495   Hugo Gloss participou do 'Sterblitch Não Tem ...  \n",
       "1496  Salvo em seu Livro de Receitas!   Vídeos para ...  \n",
       "1497   Cristal (Moro Anghileri) revela planos de Alb...  \n",
       "1498                                                     \n",
       "1499                                                     "
      ]
     },
     "execution_count": 58,
     "metadata": {},
     "output_type": "execute_result"
    }
   ],
   "source": [
    "df.tail()"
   ]
  },
  {
   "cell_type": "code",
   "execution_count": 59,
   "metadata": {},
   "outputs": [
    {
     "data": {
      "text/plain": [
       "'https://gshow.globo.com/RPC/mechama/playlist/reveja-todos-os-episodios-do-me-chama.ghtml#video-8253289-id'"
      ]
     },
     "execution_count": 59,
     "metadata": {},
     "output_type": "execute_result"
    }
   ],
   "source": [
    "df.url[1499]"
   ]
  },
  {
   "cell_type": "code",
   "execution_count": 60,
   "metadata": {},
   "outputs": [
    {
     "data": {
      "text/plain": [
       "\"['Equipe do G1 | G1 | G1', 'G1', 'Newsletter G1', 'G1']\""
      ]
     },
     "execution_count": 60,
     "metadata": {},
     "output_type": "execute_result"
    }
   ],
   "source": [
    "df['Título'][9]"
   ]
  },
  {
   "cell_type": "code",
   "execution_count": 61,
   "metadata": {},
   "outputs": [
    {
     "data": {
      "text/plain": [
       "'https://g1.globo.com/noticia/2019/12/12/equipe-do-g1.ghtml'"
      ]
     },
     "execution_count": 61,
     "metadata": {},
     "output_type": "execute_result"
    }
   ],
   "source": [
    "df['url'][9]"
   ]
  },
  {
   "cell_type": "code",
   "execution_count": 65,
   "metadata": {},
   "outputs": [],
   "source": [
    "x = df['Título'][1]"
   ]
  },
  {
   "cell_type": "code",
   "execution_count": 67,
   "metadata": {},
   "outputs": [
    {
     "name": "stdout",
     "output_type": "stream",
     "text": [
      "yep\n"
     ]
    }
   ],
   "source": [
    "if 'página' in x:\n",
    "    print('yep')\n",
    "else:\n",
    "    print('no')"
   ]
  },
  {
   "cell_type": "code",
   "execution_count": null,
   "metadata": {},
   "outputs": [],
   "source": []
  }
 ],
 "metadata": {
  "kernelspec": {
   "display_name": "Python 3",
   "language": "python",
   "name": "python3"
  },
  "language_info": {
   "codemirror_mode": {
    "name": "ipython",
    "version": 3
   },
   "file_extension": ".py",
   "mimetype": "text/x-python",
   "name": "python",
   "nbconvert_exporter": "python",
   "pygments_lexer": "ipython3",
   "version": "3.7.3"
  }
 },
 "nbformat": 4,
 "nbformat_minor": 2
}

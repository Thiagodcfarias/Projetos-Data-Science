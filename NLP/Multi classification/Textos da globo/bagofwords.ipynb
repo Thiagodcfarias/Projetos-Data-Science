{
 "cells": [
  {
   "cell_type": "markdown",
   "metadata": {},
   "source": [
    "# Analisando os dados dos sites da globo usando bag of words"
   ]
  },
  {
   "cell_type": "code",
   "execution_count": 14,
   "metadata": {},
   "outputs": [],
   "source": [
    "import pandas as pd\n",
    "\n",
    "df = pd.read_csv('C:\\\\Users\\\\Casa\\\\Desktop\\\\ds\\\\NLP\\\\Multi classification\\\\Textos da globo\\\\df_sites_globo2.csv')"
   ]
  },
  {
   "cell_type": "code",
   "execution_count": 15,
   "metadata": {},
   "outputs": [
    {
     "data": {
      "text/html": [
       "<div>\n",
       "<style scoped>\n",
       "    .dataframe tbody tr th:only-of-type {\n",
       "        vertical-align: middle;\n",
       "    }\n",
       "\n",
       "    .dataframe tbody tr th {\n",
       "        vertical-align: top;\n",
       "    }\n",
       "\n",
       "    .dataframe thead th {\n",
       "        text-align: right;\n",
       "    }\n",
       "</style>\n",
       "<table border=\"1\" class=\"dataframe\">\n",
       "  <thead>\n",
       "    <tr style=\"text-align: right;\">\n",
       "      <th></th>\n",
       "      <th>Unnamed: 0</th>\n",
       "      <th>url</th>\n",
       "      <th>titulo</th>\n",
       "      <th>conteudo</th>\n",
       "    </tr>\n",
       "  </thead>\n",
       "  <tbody>\n",
       "    <tr>\n",
       "      <th>0</th>\n",
       "      <td>0</td>\n",
       "      <td>https://g1.globo.com/globonews/globonews-docum...</td>\n",
       "      <td>\"fevereiros\" revela as origens de maria bethân...</td>\n",
       "      <td>O documentário, parceria entre GloboNews e Glo...</td>\n",
       "    </tr>\n",
       "    <tr>\n",
       "      <th>1</th>\n",
       "      <td>0</td>\n",
       "      <td>https://g1.globo.com/globonews/jornal-globonew...</td>\n",
       "      <td>george w. bush parabeniza biden e harris pela ...</td>\n",
       "      <td>O ex-presidente americano, o republicano Georg...</td>\n",
       "    </tr>\n",
       "    <tr>\n",
       "      <th>2</th>\n",
       "      <td>0</td>\n",
       "      <td>https://g1.globo.com/globonews/fatos-e-versoes...</td>\n",
       "      <td>taxação do aço brasileiro pelos eua causa surp...</td>\n",
       "      <td>A recente taxação do aço brasileiro por parte ...</td>\n",
       "    </tr>\n",
       "    <tr>\n",
       "      <th>3</th>\n",
       "      <td>0</td>\n",
       "      <td>https://g1.globo.com/globonews/globonews-docum...</td>\n",
       "      <td>'documentário 24h em wuhan' mostra a realidade...</td>\n",
       "      <td>Equipe de uma TV chinesa percorreu o local e m...</td>\n",
       "    </tr>\n",
       "    <tr>\n",
       "      <th>4</th>\n",
       "      <td>0</td>\n",
       "      <td>https://g1.globo.com/globonews/jornal-das-dez/...</td>\n",
       "      <td>guga chacra comenta discurso de joe biden ‘um ...</td>\n",
       "      <td>Democrata Joe Biden discursou em Wilmington, n...</td>\n",
       "    </tr>\n",
       "  </tbody>\n",
       "</table>\n",
       "</div>"
      ],
      "text/plain": [
       "   Unnamed: 0                                                url  \\\n",
       "0           0  https://g1.globo.com/globonews/globonews-docum...   \n",
       "1           0  https://g1.globo.com/globonews/jornal-globonew...   \n",
       "2           0  https://g1.globo.com/globonews/fatos-e-versoes...   \n",
       "3           0  https://g1.globo.com/globonews/globonews-docum...   \n",
       "4           0  https://g1.globo.com/globonews/jornal-das-dez/...   \n",
       "\n",
       "                                              titulo  \\\n",
       "0  \"fevereiros\" revela as origens de maria bethân...   \n",
       "1  george w. bush parabeniza biden e harris pela ...   \n",
       "2  taxação do aço brasileiro pelos eua causa surp...   \n",
       "3  'documentário 24h em wuhan' mostra a realidade...   \n",
       "4  guga chacra comenta discurso de joe biden ‘um ...   \n",
       "\n",
       "                                            conteudo  \n",
       "0  O documentário, parceria entre GloboNews e Glo...  \n",
       "1  O ex-presidente americano, o republicano Georg...  \n",
       "2  A recente taxação do aço brasileiro por parte ...  \n",
       "3  Equipe de uma TV chinesa percorreu o local e m...  \n",
       "4  Democrata Joe Biden discursou em Wilmington, n...  "
      ]
     },
     "execution_count": 15,
     "metadata": {},
     "output_type": "execute_result"
    }
   ],
   "source": [
    "df.head()"
   ]
  },
  {
   "cell_type": "code",
   "execution_count": 16,
   "metadata": {},
   "outputs": [
    {
     "data": {
      "text/plain": [
       "0"
      ]
     },
     "execution_count": 16,
     "metadata": {},
     "output_type": "execute_result"
    }
   ],
   "source": [
    "df.titulo.isnull().sum()"
   ]
  },
  {
   "cell_type": "code",
   "execution_count": 17,
   "metadata": {},
   "outputs": [
    {
     "data": {
      "text/plain": [
       "0"
      ]
     },
     "execution_count": 17,
     "metadata": {},
     "output_type": "execute_result"
    }
   ],
   "source": [
    "df.url.isnull().sum()"
   ]
  },
  {
   "cell_type": "code",
   "execution_count": 18,
   "metadata": {},
   "outputs": [
    {
     "data": {
      "text/plain": [
       "(1500, 4)"
      ]
     },
     "execution_count": 18,
     "metadata": {},
     "output_type": "execute_result"
    }
   ],
   "source": [
    "df.shape"
   ]
  },
  {
   "cell_type": "markdown",
   "metadata": {},
   "source": [
    "### Primeiro vamos usar apenas os textos dos títulos das páginas\n",
    "\n",
    "* Há poucos dados para se trabalhar"
   ]
  },
  {
   "cell_type": "code",
   "execution_count": 19,
   "metadata": {},
   "outputs": [
    {
     "data": {
      "text/plain": [
       "Index(['Unnamed: 0', 'url', 'titulo', 'conteudo'], dtype='object')"
      ]
     },
     "execution_count": 19,
     "metadata": {},
     "output_type": "execute_result"
    }
   ],
   "source": [
    "df.columns"
   ]
  },
  {
   "cell_type": "code",
   "execution_count": 20,
   "metadata": {},
   "outputs": [],
   "source": [
    "df = df.drop(df.columns[[0]], axis=1)"
   ]
  },
  {
   "cell_type": "code",
   "execution_count": 21,
   "metadata": {},
   "outputs": [
    {
     "data": {
      "text/html": [
       "<div>\n",
       "<style scoped>\n",
       "    .dataframe tbody tr th:only-of-type {\n",
       "        vertical-align: middle;\n",
       "    }\n",
       "\n",
       "    .dataframe tbody tr th {\n",
       "        vertical-align: top;\n",
       "    }\n",
       "\n",
       "    .dataframe thead th {\n",
       "        text-align: right;\n",
       "    }\n",
       "</style>\n",
       "<table border=\"1\" class=\"dataframe\">\n",
       "  <thead>\n",
       "    <tr style=\"text-align: right;\">\n",
       "      <th></th>\n",
       "      <th>url</th>\n",
       "      <th>titulo</th>\n",
       "      <th>conteudo</th>\n",
       "    </tr>\n",
       "  </thead>\n",
       "  <tbody>\n",
       "    <tr>\n",
       "      <th>0</th>\n",
       "      <td>https://g1.globo.com/globonews/globonews-docum...</td>\n",
       "      <td>\"fevereiros\" revela as origens de maria bethân...</td>\n",
       "      <td>O documentário, parceria entre GloboNews e Glo...</td>\n",
       "    </tr>\n",
       "    <tr>\n",
       "      <th>1</th>\n",
       "      <td>https://g1.globo.com/globonews/jornal-globonew...</td>\n",
       "      <td>george w. bush parabeniza biden e harris pela ...</td>\n",
       "      <td>O ex-presidente americano, o republicano Georg...</td>\n",
       "    </tr>\n",
       "    <tr>\n",
       "      <th>2</th>\n",
       "      <td>https://g1.globo.com/globonews/fatos-e-versoes...</td>\n",
       "      <td>taxação do aço brasileiro pelos eua causa surp...</td>\n",
       "      <td>A recente taxação do aço brasileiro por parte ...</td>\n",
       "    </tr>\n",
       "    <tr>\n",
       "      <th>3</th>\n",
       "      <td>https://g1.globo.com/globonews/globonews-docum...</td>\n",
       "      <td>'documentário 24h em wuhan' mostra a realidade...</td>\n",
       "      <td>Equipe de uma TV chinesa percorreu o local e m...</td>\n",
       "    </tr>\n",
       "    <tr>\n",
       "      <th>4</th>\n",
       "      <td>https://g1.globo.com/globonews/jornal-das-dez/...</td>\n",
       "      <td>guga chacra comenta discurso de joe biden ‘um ...</td>\n",
       "      <td>Democrata Joe Biden discursou em Wilmington, n...</td>\n",
       "    </tr>\n",
       "  </tbody>\n",
       "</table>\n",
       "</div>"
      ],
      "text/plain": [
       "                                                 url  \\\n",
       "0  https://g1.globo.com/globonews/globonews-docum...   \n",
       "1  https://g1.globo.com/globonews/jornal-globonew...   \n",
       "2  https://g1.globo.com/globonews/fatos-e-versoes...   \n",
       "3  https://g1.globo.com/globonews/globonews-docum...   \n",
       "4  https://g1.globo.com/globonews/jornal-das-dez/...   \n",
       "\n",
       "                                              titulo  \\\n",
       "0  \"fevereiros\" revela as origens de maria bethân...   \n",
       "1  george w. bush parabeniza biden e harris pela ...   \n",
       "2  taxação do aço brasileiro pelos eua causa surp...   \n",
       "3  'documentário 24h em wuhan' mostra a realidade...   \n",
       "4  guga chacra comenta discurso de joe biden ‘um ...   \n",
       "\n",
       "                                            conteudo  \n",
       "0  O documentário, parceria entre GloboNews e Glo...  \n",
       "1  O ex-presidente americano, o republicano Georg...  \n",
       "2  A recente taxação do aço brasileiro por parte ...  \n",
       "3  Equipe de uma TV chinesa percorreu o local e m...  \n",
       "4  Democrata Joe Biden discursou em Wilmington, n...  "
      ]
     },
     "execution_count": 21,
     "metadata": {},
     "output_type": "execute_result"
    }
   ],
   "source": [
    "df.head()"
   ]
  },
  {
   "cell_type": "code",
   "execution_count": 22,
   "metadata": {},
   "outputs": [],
   "source": [
    "import numpy as np\n",
    "\n",
    "conditions = [\n",
    "    (df['url'].str.contains('gshow')),\n",
    "    (df['url'].str.contains('globonews')),\n",
    "    (df['url'].str.contains('globoesporte')),\n",
    "    ]\n",
    "\n",
    "choices = ['gshow', 'globonews','globoesporte']\n",
    "\n",
    "df['url_origem'] = np.select(conditions,choices)"
   ]
  },
  {
   "cell_type": "code",
   "execution_count": 23,
   "metadata": {},
   "outputs": [
    {
     "data": {
      "text/html": [
       "<div>\n",
       "<style scoped>\n",
       "    .dataframe tbody tr th:only-of-type {\n",
       "        vertical-align: middle;\n",
       "    }\n",
       "\n",
       "    .dataframe tbody tr th {\n",
       "        vertical-align: top;\n",
       "    }\n",
       "\n",
       "    .dataframe thead th {\n",
       "        text-align: right;\n",
       "    }\n",
       "</style>\n",
       "<table border=\"1\" class=\"dataframe\">\n",
       "  <thead>\n",
       "    <tr style=\"text-align: right;\">\n",
       "      <th></th>\n",
       "      <th>url</th>\n",
       "      <th>titulo</th>\n",
       "      <th>conteudo</th>\n",
       "      <th>url_origem</th>\n",
       "    </tr>\n",
       "  </thead>\n",
       "  <tbody>\n",
       "    <tr>\n",
       "      <th>0</th>\n",
       "      <td>https://g1.globo.com/globonews/globonews-docum...</td>\n",
       "      <td>\"fevereiros\" revela as origens de maria bethân...</td>\n",
       "      <td>O documentário, parceria entre GloboNews e Glo...</td>\n",
       "      <td>globonews</td>\n",
       "    </tr>\n",
       "    <tr>\n",
       "      <th>1</th>\n",
       "      <td>https://g1.globo.com/globonews/jornal-globonew...</td>\n",
       "      <td>george w. bush parabeniza biden e harris pela ...</td>\n",
       "      <td>O ex-presidente americano, o republicano Georg...</td>\n",
       "      <td>globonews</td>\n",
       "    </tr>\n",
       "    <tr>\n",
       "      <th>2</th>\n",
       "      <td>https://g1.globo.com/globonews/fatos-e-versoes...</td>\n",
       "      <td>taxação do aço brasileiro pelos eua causa surp...</td>\n",
       "      <td>A recente taxação do aço brasileiro por parte ...</td>\n",
       "      <td>globonews</td>\n",
       "    </tr>\n",
       "    <tr>\n",
       "      <th>3</th>\n",
       "      <td>https://g1.globo.com/globonews/globonews-docum...</td>\n",
       "      <td>'documentário 24h em wuhan' mostra a realidade...</td>\n",
       "      <td>Equipe de uma TV chinesa percorreu o local e m...</td>\n",
       "      <td>globonews</td>\n",
       "    </tr>\n",
       "    <tr>\n",
       "      <th>4</th>\n",
       "      <td>https://g1.globo.com/globonews/jornal-das-dez/...</td>\n",
       "      <td>guga chacra comenta discurso de joe biden ‘um ...</td>\n",
       "      <td>Democrata Joe Biden discursou em Wilmington, n...</td>\n",
       "      <td>globonews</td>\n",
       "    </tr>\n",
       "  </tbody>\n",
       "</table>\n",
       "</div>"
      ],
      "text/plain": [
       "                                                 url  \\\n",
       "0  https://g1.globo.com/globonews/globonews-docum...   \n",
       "1  https://g1.globo.com/globonews/jornal-globonew...   \n",
       "2  https://g1.globo.com/globonews/fatos-e-versoes...   \n",
       "3  https://g1.globo.com/globonews/globonews-docum...   \n",
       "4  https://g1.globo.com/globonews/jornal-das-dez/...   \n",
       "\n",
       "                                              titulo  \\\n",
       "0  \"fevereiros\" revela as origens de maria bethân...   \n",
       "1  george w. bush parabeniza biden e harris pela ...   \n",
       "2  taxação do aço brasileiro pelos eua causa surp...   \n",
       "3  'documentário 24h em wuhan' mostra a realidade...   \n",
       "4  guga chacra comenta discurso de joe biden ‘um ...   \n",
       "\n",
       "                                            conteudo url_origem  \n",
       "0  O documentário, parceria entre GloboNews e Glo...  globonews  \n",
       "1  O ex-presidente americano, o republicano Georg...  globonews  \n",
       "2  A recente taxação do aço brasileiro por parte ...  globonews  \n",
       "3  Equipe de uma TV chinesa percorreu o local e m...  globonews  \n",
       "4  Democrata Joe Biden discursou em Wilmington, n...  globonews  "
      ]
     },
     "execution_count": 23,
     "metadata": {},
     "output_type": "execute_result"
    }
   ],
   "source": [
    "df.head()"
   ]
  },
  {
   "cell_type": "code",
   "execution_count": 24,
   "metadata": {},
   "outputs": [
    {
     "data": {
      "text/html": [
       "<div>\n",
       "<style scoped>\n",
       "    .dataframe tbody tr th:only-of-type {\n",
       "        vertical-align: middle;\n",
       "    }\n",
       "\n",
       "    .dataframe tbody tr th {\n",
       "        vertical-align: top;\n",
       "    }\n",
       "\n",
       "    .dataframe thead th {\n",
       "        text-align: right;\n",
       "    }\n",
       "</style>\n",
       "<table border=\"1\" class=\"dataframe\">\n",
       "  <thead>\n",
       "    <tr style=\"text-align: right;\">\n",
       "      <th></th>\n",
       "      <th>url</th>\n",
       "      <th>titulo</th>\n",
       "      <th>conteudo</th>\n",
       "      <th>url_origem</th>\n",
       "    </tr>\n",
       "  </thead>\n",
       "  <tbody>\n",
       "    <tr>\n",
       "      <th>count</th>\n",
       "      <td>1500</td>\n",
       "      <td>1500</td>\n",
       "      <td>1500</td>\n",
       "      <td>1500</td>\n",
       "    </tr>\n",
       "    <tr>\n",
       "      <th>unique</th>\n",
       "      <td>1500</td>\n",
       "      <td>1468</td>\n",
       "      <td>1465</td>\n",
       "      <td>3</td>\n",
       "    </tr>\n",
       "    <tr>\n",
       "      <th>top</th>\n",
       "      <td>https://globoesporte.globo.com/futebol/brasile...</td>\n",
       "      <td>participante do 'milionário' pede duas ajudas ...</td>\n",
       "      <td>Edivan Duarte participa do 'Quem Quer Ser Um ...</td>\n",
       "      <td>globoesporte</td>\n",
       "    </tr>\n",
       "    <tr>\n",
       "      <th>freq</th>\n",
       "      <td>1</td>\n",
       "      <td>5</td>\n",
       "      <td>5</td>\n",
       "      <td>500</td>\n",
       "    </tr>\n",
       "  </tbody>\n",
       "</table>\n",
       "</div>"
      ],
      "text/plain": [
       "                                                      url  \\\n",
       "count                                                1500   \n",
       "unique                                               1500   \n",
       "top     https://globoesporte.globo.com/futebol/brasile...   \n",
       "freq                                                    1   \n",
       "\n",
       "                                                   titulo  \\\n",
       "count                                                1500   \n",
       "unique                                               1468   \n",
       "top     participante do 'milionário' pede duas ajudas ...   \n",
       "freq                                                    5   \n",
       "\n",
       "                                                 conteudo    url_origem  \n",
       "count                                                1500          1500  \n",
       "unique                                               1465             3  \n",
       "top      Edivan Duarte participa do 'Quem Quer Ser Um ...  globoesporte  \n",
       "freq                                                    5           500  "
      ]
     },
     "execution_count": 24,
     "metadata": {},
     "output_type": "execute_result"
    }
   ],
   "source": [
    "df.describe()"
   ]
  },
  {
   "cell_type": "code",
   "execution_count": 25,
   "metadata": {},
   "outputs": [],
   "source": [
    "df['sub_categoria'] = df.url.str.replace('https://g1.globo.com/globonews/', '')\n",
    "df['sub_categoria'] = df.sub_categoria.str.replace('https://globoesporte.globo.com/', '')\n",
    "df['sub_categoria'] = df.sub_categoria.str.replace('https://gshow.globo.com/', '')"
   ]
  },
  {
   "cell_type": "code",
   "execution_count": 26,
   "metadata": {},
   "outputs": [
    {
     "data": {
      "text/html": [
       "<div>\n",
       "<style scoped>\n",
       "    .dataframe tbody tr th:only-of-type {\n",
       "        vertical-align: middle;\n",
       "    }\n",
       "\n",
       "    .dataframe tbody tr th {\n",
       "        vertical-align: top;\n",
       "    }\n",
       "\n",
       "    .dataframe thead th {\n",
       "        text-align: right;\n",
       "    }\n",
       "</style>\n",
       "<table border=\"1\" class=\"dataframe\">\n",
       "  <thead>\n",
       "    <tr style=\"text-align: right;\">\n",
       "      <th></th>\n",
       "      <th>url</th>\n",
       "      <th>titulo</th>\n",
       "      <th>conteudo</th>\n",
       "      <th>url_origem</th>\n",
       "      <th>sub_categoria</th>\n",
       "    </tr>\n",
       "  </thead>\n",
       "  <tbody>\n",
       "    <tr>\n",
       "      <th>0</th>\n",
       "      <td>https://g1.globo.com/globonews/globonews-docum...</td>\n",
       "      <td>\"fevereiros\" revela as origens de maria bethân...</td>\n",
       "      <td>O documentário, parceria entre GloboNews e Glo...</td>\n",
       "      <td>globonews</td>\n",
       "      <td>globonews-documentario</td>\n",
       "    </tr>\n",
       "    <tr>\n",
       "      <th>1</th>\n",
       "      <td>https://g1.globo.com/globonews/jornal-globonew...</td>\n",
       "      <td>george w. bush parabeniza biden e harris pela ...</td>\n",
       "      <td>O ex-presidente americano, o republicano Georg...</td>\n",
       "      <td>globonews</td>\n",
       "      <td>jornal-globonews</td>\n",
       "    </tr>\n",
       "    <tr>\n",
       "      <th>2</th>\n",
       "      <td>https://g1.globo.com/globonews/fatos-e-versoes...</td>\n",
       "      <td>taxação do aço brasileiro pelos eua causa surp...</td>\n",
       "      <td>A recente taxação do aço brasileiro por parte ...</td>\n",
       "      <td>globonews</td>\n",
       "      <td>fatos-e-versoes</td>\n",
       "    </tr>\n",
       "    <tr>\n",
       "      <th>3</th>\n",
       "      <td>https://g1.globo.com/globonews/globonews-docum...</td>\n",
       "      <td>'documentário 24h em wuhan' mostra a realidade...</td>\n",
       "      <td>Equipe de uma TV chinesa percorreu o local e m...</td>\n",
       "      <td>globonews</td>\n",
       "      <td>globonews-documentario</td>\n",
       "    </tr>\n",
       "    <tr>\n",
       "      <th>4</th>\n",
       "      <td>https://g1.globo.com/globonews/jornal-das-dez/...</td>\n",
       "      <td>guga chacra comenta discurso de joe biden ‘um ...</td>\n",
       "      <td>Democrata Joe Biden discursou em Wilmington, n...</td>\n",
       "      <td>globonews</td>\n",
       "      <td>jornal-das-dez</td>\n",
       "    </tr>\n",
       "  </tbody>\n",
       "</table>\n",
       "</div>"
      ],
      "text/plain": [
       "                                                 url  \\\n",
       "0  https://g1.globo.com/globonews/globonews-docum...   \n",
       "1  https://g1.globo.com/globonews/jornal-globonew...   \n",
       "2  https://g1.globo.com/globonews/fatos-e-versoes...   \n",
       "3  https://g1.globo.com/globonews/globonews-docum...   \n",
       "4  https://g1.globo.com/globonews/jornal-das-dez/...   \n",
       "\n",
       "                                              titulo  \\\n",
       "0  \"fevereiros\" revela as origens de maria bethân...   \n",
       "1  george w. bush parabeniza biden e harris pela ...   \n",
       "2  taxação do aço brasileiro pelos eua causa surp...   \n",
       "3  'documentário 24h em wuhan' mostra a realidade...   \n",
       "4  guga chacra comenta discurso de joe biden ‘um ...   \n",
       "\n",
       "                                            conteudo url_origem  \\\n",
       "0  O documentário, parceria entre GloboNews e Glo...  globonews   \n",
       "1  O ex-presidente americano, o republicano Georg...  globonews   \n",
       "2  A recente taxação do aço brasileiro por parte ...  globonews   \n",
       "3  Equipe de uma TV chinesa percorreu o local e m...  globonews   \n",
       "4  Democrata Joe Biden discursou em Wilmington, n...  globonews   \n",
       "\n",
       "            sub_categoria  \n",
       "0  globonews-documentario  \n",
       "1        jornal-globonews  \n",
       "2         fatos-e-versoes  \n",
       "3  globonews-documentario  \n",
       "4          jornal-das-dez  "
      ]
     },
     "execution_count": 26,
     "metadata": {},
     "output_type": "execute_result"
    }
   ],
   "source": [
    "df['sub_categoria'] = df.sub_categoria.str.split('/')\n",
    "df['sub_categoria'] = df.sub_categoria.map(lambda x: x[0])\n",
    "df.head()"
   ]
  },
  {
   "cell_type": "code",
   "execution_count": 27,
   "metadata": {},
   "outputs": [
    {
     "data": {
      "text/plain": [
       "count        1500\n",
       "unique        102\n",
       "top       novelas\n",
       "freq          134\n",
       "Name: sub_categoria, dtype: object"
      ]
     },
     "execution_count": 27,
     "metadata": {},
     "output_type": "execute_result"
    }
   ],
   "source": [
    "df.sub_categoria.describe()"
   ]
  },
  {
   "cell_type": "code",
   "execution_count": 28,
   "metadata": {},
   "outputs": [
    {
     "data": {
      "text/html": [
       "<div>\n",
       "<style scoped>\n",
       "    .dataframe tbody tr th:only-of-type {\n",
       "        vertical-align: middle;\n",
       "    }\n",
       "\n",
       "    .dataframe tbody tr th {\n",
       "        vertical-align: top;\n",
       "    }\n",
       "\n",
       "    .dataframe thead th {\n",
       "        text-align: right;\n",
       "    }\n",
       "</style>\n",
       "<table border=\"1\" class=\"dataframe\">\n",
       "  <thead>\n",
       "    <tr style=\"text-align: right;\">\n",
       "      <th></th>\n",
       "      <th>url</th>\n",
       "      <th>titulo</th>\n",
       "      <th>conteudo</th>\n",
       "      <th>url_origem</th>\n",
       "    </tr>\n",
       "    <tr>\n",
       "      <th>sub_categoria</th>\n",
       "      <th></th>\n",
       "      <th></th>\n",
       "      <th></th>\n",
       "      <th></th>\n",
       "    </tr>\n",
       "  </thead>\n",
       "  <tbody>\n",
       "    <tr>\n",
       "      <th>combate</th>\n",
       "      <td>51</td>\n",
       "      <td>51</td>\n",
       "      <td>51</td>\n",
       "      <td>51</td>\n",
       "    </tr>\n",
       "    <tr>\n",
       "      <th>futebol</th>\n",
       "      <td>49</td>\n",
       "      <td>49</td>\n",
       "      <td>49</td>\n",
       "      <td>49</td>\n",
       "    </tr>\n",
       "    <tr>\n",
       "      <th>esports</th>\n",
       "      <td>42</td>\n",
       "      <td>42</td>\n",
       "      <td>42</td>\n",
       "      <td>42</td>\n",
       "    </tr>\n",
       "    <tr>\n",
       "      <th>pi</th>\n",
       "      <td>38</td>\n",
       "      <td>38</td>\n",
       "      <td>38</td>\n",
       "      <td>38</td>\n",
       "    </tr>\n",
       "    <tr>\n",
       "      <th>sp</th>\n",
       "      <td>34</td>\n",
       "      <td>34</td>\n",
       "      <td>34</td>\n",
       "      <td>34</td>\n",
       "    </tr>\n",
       "    <tr>\n",
       "      <th>pe</th>\n",
       "      <td>31</td>\n",
       "      <td>31</td>\n",
       "      <td>31</td>\n",
       "      <td>31</td>\n",
       "    </tr>\n",
       "    <tr>\n",
       "      <th>ac</th>\n",
       "      <td>20</td>\n",
       "      <td>20</td>\n",
       "      <td>20</td>\n",
       "      <td>20</td>\n",
       "    </tr>\n",
       "    <tr>\n",
       "      <th>am</th>\n",
       "      <td>20</td>\n",
       "      <td>20</td>\n",
       "      <td>20</td>\n",
       "      <td>20</td>\n",
       "    </tr>\n",
       "    <tr>\n",
       "      <th>pb</th>\n",
       "      <td>18</td>\n",
       "      <td>18</td>\n",
       "      <td>18</td>\n",
       "      <td>18</td>\n",
       "    </tr>\n",
       "    <tr>\n",
       "      <th>basquete</th>\n",
       "      <td>18</td>\n",
       "      <td>18</td>\n",
       "      <td>18</td>\n",
       "      <td>18</td>\n",
       "    </tr>\n",
       "    <tr>\n",
       "      <th>ro</th>\n",
       "      <td>16</td>\n",
       "      <td>16</td>\n",
       "      <td>16</td>\n",
       "      <td>16</td>\n",
       "    </tr>\n",
       "    <tr>\n",
       "      <th>pa</th>\n",
       "      <td>16</td>\n",
       "      <td>16</td>\n",
       "      <td>16</td>\n",
       "      <td>16</td>\n",
       "    </tr>\n",
       "    <tr>\n",
       "      <th>blogs</th>\n",
       "      <td>15</td>\n",
       "      <td>15</td>\n",
       "      <td>15</td>\n",
       "      <td>15</td>\n",
       "    </tr>\n",
       "    <tr>\n",
       "      <th>mg</th>\n",
       "      <td>13</td>\n",
       "      <td>13</td>\n",
       "      <td>13</td>\n",
       "      <td>13</td>\n",
       "    </tr>\n",
       "    <tr>\n",
       "      <th>sc</th>\n",
       "      <td>11</td>\n",
       "      <td>11</td>\n",
       "      <td>11</td>\n",
       "      <td>11</td>\n",
       "    </tr>\n",
       "    <tr>\n",
       "      <th>ap</th>\n",
       "      <td>10</td>\n",
       "      <td>10</td>\n",
       "      <td>10</td>\n",
       "      <td>10</td>\n",
       "    </tr>\n",
       "    <tr>\n",
       "      <th>tenis</th>\n",
       "      <td>9</td>\n",
       "      <td>9</td>\n",
       "      <td>9</td>\n",
       "      <td>9</td>\n",
       "    </tr>\n",
       "    <tr>\n",
       "      <th>cartola-fc</th>\n",
       "      <td>8</td>\n",
       "      <td>8</td>\n",
       "      <td>8</td>\n",
       "      <td>8</td>\n",
       "    </tr>\n",
       "    <tr>\n",
       "      <th>boxe</th>\n",
       "      <td>8</td>\n",
       "      <td>8</td>\n",
       "      <td>8</td>\n",
       "      <td>8</td>\n",
       "    </tr>\n",
       "    <tr>\n",
       "      <th>pr</th>\n",
       "      <td>7</td>\n",
       "      <td>7</td>\n",
       "      <td>7</td>\n",
       "      <td>7</td>\n",
       "    </tr>\n",
       "    <tr>\n",
       "      <th>skate</th>\n",
       "      <td>7</td>\n",
       "      <td>7</td>\n",
       "      <td>7</td>\n",
       "      <td>7</td>\n",
       "    </tr>\n",
       "    <tr>\n",
       "      <th>e-sportv</th>\n",
       "      <td>6</td>\n",
       "      <td>6</td>\n",
       "      <td>6</td>\n",
       "      <td>6</td>\n",
       "    </tr>\n",
       "    <tr>\n",
       "      <th>motor</th>\n",
       "      <td>6</td>\n",
       "      <td>6</td>\n",
       "      <td>6</td>\n",
       "      <td>6</td>\n",
       "    </tr>\n",
       "    <tr>\n",
       "      <th>olimpiadas</th>\n",
       "      <td>5</td>\n",
       "      <td>5</td>\n",
       "      <td>5</td>\n",
       "      <td>5</td>\n",
       "    </tr>\n",
       "    <tr>\n",
       "      <th>rs</th>\n",
       "      <td>4</td>\n",
       "      <td>4</td>\n",
       "      <td>4</td>\n",
       "      <td>4</td>\n",
       "    </tr>\n",
       "    <tr>\n",
       "      <th>volei-de-praia</th>\n",
       "      <td>4</td>\n",
       "      <td>4</td>\n",
       "      <td>4</td>\n",
       "      <td>4</td>\n",
       "    </tr>\n",
       "    <tr>\n",
       "      <th>al</th>\n",
       "      <td>4</td>\n",
       "      <td>4</td>\n",
       "      <td>4</td>\n",
       "      <td>4</td>\n",
       "    </tr>\n",
       "    <tr>\n",
       "      <th>natacao</th>\n",
       "      <td>4</td>\n",
       "      <td>4</td>\n",
       "      <td>4</td>\n",
       "      <td>4</td>\n",
       "    </tr>\n",
       "    <tr>\n",
       "      <th>programas</th>\n",
       "      <td>3</td>\n",
       "      <td>3</td>\n",
       "      <td>3</td>\n",
       "      <td>3</td>\n",
       "    </tr>\n",
       "    <tr>\n",
       "      <th>rj</th>\n",
       "      <td>3</td>\n",
       "      <td>3</td>\n",
       "      <td>3</td>\n",
       "      <td>3</td>\n",
       "    </tr>\n",
       "    <tr>\n",
       "      <th>to</th>\n",
       "      <td>3</td>\n",
       "      <td>3</td>\n",
       "      <td>3</td>\n",
       "      <td>3</td>\n",
       "    </tr>\n",
       "    <tr>\n",
       "      <th>volei</th>\n",
       "      <td>3</td>\n",
       "      <td>3</td>\n",
       "      <td>3</td>\n",
       "      <td>3</td>\n",
       "    </tr>\n",
       "    <tr>\n",
       "      <th>loja</th>\n",
       "      <td>2</td>\n",
       "      <td>2</td>\n",
       "      <td>2</td>\n",
       "      <td>2</td>\n",
       "    </tr>\n",
       "    <tr>\n",
       "      <th>se</th>\n",
       "      <td>2</td>\n",
       "      <td>2</td>\n",
       "      <td>2</td>\n",
       "      <td>2</td>\n",
       "    </tr>\n",
       "    <tr>\n",
       "      <th>ce</th>\n",
       "      <td>2</td>\n",
       "      <td>2</td>\n",
       "      <td>2</td>\n",
       "      <td>2</td>\n",
       "    </tr>\n",
       "    <tr>\n",
       "      <th>olympicchannel</th>\n",
       "      <td>2</td>\n",
       "      <td>2</td>\n",
       "      <td>2</td>\n",
       "      <td>2</td>\n",
       "    </tr>\n",
       "    <tr>\n",
       "      <th>outros-esportes</th>\n",
       "      <td>1</td>\n",
       "      <td>1</td>\n",
       "      <td>1</td>\n",
       "      <td>1</td>\n",
       "    </tr>\n",
       "    <tr>\n",
       "      <th>podcasts</th>\n",
       "      <td>1</td>\n",
       "      <td>1</td>\n",
       "      <td>1</td>\n",
       "      <td>1</td>\n",
       "    </tr>\n",
       "    <tr>\n",
       "      <th>premiere</th>\n",
       "      <td>1</td>\n",
       "      <td>1</td>\n",
       "      <td>1</td>\n",
       "      <td>1</td>\n",
       "    </tr>\n",
       "    <tr>\n",
       "      <th>levantamento-de-peso</th>\n",
       "      <td>1</td>\n",
       "      <td>1</td>\n",
       "      <td>1</td>\n",
       "      <td>1</td>\n",
       "    </tr>\n",
       "    <tr>\n",
       "      <th>es</th>\n",
       "      <td>1</td>\n",
       "      <td>1</td>\n",
       "      <td>1</td>\n",
       "      <td>1</td>\n",
       "    </tr>\n",
       "    <tr>\n",
       "      <th>atletismo</th>\n",
       "      <td>1</td>\n",
       "      <td>1</td>\n",
       "      <td>1</td>\n",
       "      <td>1</td>\n",
       "    </tr>\n",
       "  </tbody>\n",
       "</table>\n",
       "</div>"
      ],
      "text/plain": [
       "                      url  titulo  conteudo  url_origem\n",
       "sub_categoria                                          \n",
       "combate                51      51        51          51\n",
       "futebol                49      49        49          49\n",
       "esports                42      42        42          42\n",
       "pi                     38      38        38          38\n",
       "sp                     34      34        34          34\n",
       "pe                     31      31        31          31\n",
       "ac                     20      20        20          20\n",
       "am                     20      20        20          20\n",
       "pb                     18      18        18          18\n",
       "basquete               18      18        18          18\n",
       "ro                     16      16        16          16\n",
       "pa                     16      16        16          16\n",
       "blogs                  15      15        15          15\n",
       "mg                     13      13        13          13\n",
       "sc                     11      11        11          11\n",
       "ap                     10      10        10          10\n",
       "tenis                   9       9         9           9\n",
       "cartola-fc              8       8         8           8\n",
       "boxe                    8       8         8           8\n",
       "pr                      7       7         7           7\n",
       "skate                   7       7         7           7\n",
       "e-sportv                6       6         6           6\n",
       "motor                   6       6         6           6\n",
       "olimpiadas              5       5         5           5\n",
       "rs                      4       4         4           4\n",
       "volei-de-praia          4       4         4           4\n",
       "al                      4       4         4           4\n",
       "natacao                 4       4         4           4\n",
       "programas               3       3         3           3\n",
       "rj                      3       3         3           3\n",
       "to                      3       3         3           3\n",
       "volei                   3       3         3           3\n",
       "loja                    2       2         2           2\n",
       "se                      2       2         2           2\n",
       "ce                      2       2         2           2\n",
       "olympicchannel          2       2         2           2\n",
       "outros-esportes         1       1         1           1\n",
       "podcasts                1       1         1           1\n",
       "premiere                1       1         1           1\n",
       "levantamento-de-peso    1       1         1           1\n",
       "es                      1       1         1           1\n",
       "atletismo               1       1         1           1"
      ]
     },
     "execution_count": 28,
     "metadata": {},
     "output_type": "execute_result"
    }
   ],
   "source": [
    "df[df['url_origem'] == 'globoesporte'].groupby('sub_categoria').count().sort_values(by=['url_origem'], ascending=False)"
   ]
  },
  {
   "cell_type": "code",
   "execution_count": 29,
   "metadata": {
    "scrolled": true
   },
   "outputs": [
    {
     "data": {
      "text/html": [
       "<div>\n",
       "<style scoped>\n",
       "    .dataframe tbody tr th:only-of-type {\n",
       "        vertical-align: middle;\n",
       "    }\n",
       "\n",
       "    .dataframe tbody tr th {\n",
       "        vertical-align: top;\n",
       "    }\n",
       "\n",
       "    .dataframe thead th {\n",
       "        text-align: right;\n",
       "    }\n",
       "</style>\n",
       "<table border=\"1\" class=\"dataframe\">\n",
       "  <thead>\n",
       "    <tr style=\"text-align: right;\">\n",
       "      <th></th>\n",
       "      <th>url</th>\n",
       "      <th>titulo</th>\n",
       "      <th>conteudo</th>\n",
       "      <th>url_origem</th>\n",
       "    </tr>\n",
       "    <tr>\n",
       "      <th>sub_categoria</th>\n",
       "      <th></th>\n",
       "      <th></th>\n",
       "      <th></th>\n",
       "      <th></th>\n",
       "    </tr>\n",
       "  </thead>\n",
       "  <tbody>\n",
       "    <tr>\n",
       "      <th>fatos-e-versoes</th>\n",
       "      <td>33</td>\n",
       "      <td>33</td>\n",
       "      <td>33</td>\n",
       "      <td>33</td>\n",
       "    </tr>\n",
       "    <tr>\n",
       "      <th>mundo-sa</th>\n",
       "      <td>32</td>\n",
       "      <td>32</td>\n",
       "      <td>32</td>\n",
       "      <td>32</td>\n",
       "    </tr>\n",
       "    <tr>\n",
       "      <th>globonews-documentario</th>\n",
       "      <td>31</td>\n",
       "      <td>31</td>\n",
       "      <td>31</td>\n",
       "      <td>31</td>\n",
       "    </tr>\n",
       "    <tr>\n",
       "      <th>jornal-globonews-edicao-das-18</th>\n",
       "      <td>30</td>\n",
       "      <td>30</td>\n",
       "      <td>30</td>\n",
       "      <td>30</td>\n",
       "    </tr>\n",
       "    <tr>\n",
       "      <th>globonews-miriam-leitao</th>\n",
       "      <td>26</td>\n",
       "      <td>26</td>\n",
       "      <td>26</td>\n",
       "      <td>26</td>\n",
       "    </tr>\n",
       "    <tr>\n",
       "      <th>via-brasil</th>\n",
       "      <td>25</td>\n",
       "      <td>25</td>\n",
       "      <td>25</td>\n",
       "      <td>25</td>\n",
       "    </tr>\n",
       "    <tr>\n",
       "      <th>dialogos-com-mario-sergio-conti</th>\n",
       "      <td>25</td>\n",
       "      <td>25</td>\n",
       "      <td>25</td>\n",
       "      <td>25</td>\n",
       "    </tr>\n",
       "    <tr>\n",
       "      <th>conta-corrente</th>\n",
       "      <td>24</td>\n",
       "      <td>24</td>\n",
       "      <td>24</td>\n",
       "      <td>24</td>\n",
       "    </tr>\n",
       "    <tr>\n",
       "      <th>jornal-globonews</th>\n",
       "      <td>24</td>\n",
       "      <td>24</td>\n",
       "      <td>24</td>\n",
       "      <td>24</td>\n",
       "    </tr>\n",
       "    <tr>\n",
       "      <th>que-mundo-e-esse</th>\n",
       "      <td>19</td>\n",
       "      <td>19</td>\n",
       "      <td>19</td>\n",
       "      <td>19</td>\n",
       "    </tr>\n",
       "    <tr>\n",
       "      <th>milenio</th>\n",
       "      <td>18</td>\n",
       "      <td>18</td>\n",
       "      <td>18</td>\n",
       "      <td>18</td>\n",
       "    </tr>\n",
       "    <tr>\n",
       "      <th>jornal-das-dez</th>\n",
       "      <td>18</td>\n",
       "      <td>18</td>\n",
       "      <td>18</td>\n",
       "      <td>18</td>\n",
       "    </tr>\n",
       "    <tr>\n",
       "      <th>globonews-em-ponto</th>\n",
       "      <td>16</td>\n",
       "      <td>16</td>\n",
       "      <td>16</td>\n",
       "      <td>16</td>\n",
       "    </tr>\n",
       "    <tr>\n",
       "      <th>jornal-globonews-edicao-das-10</th>\n",
       "      <td>16</td>\n",
       "      <td>16</td>\n",
       "      <td>16</td>\n",
       "      <td>16</td>\n",
       "    </tr>\n",
       "    <tr>\n",
       "      <th>estudio-i</th>\n",
       "      <td>15</td>\n",
       "      <td>15</td>\n",
       "      <td>15</td>\n",
       "      <td>15</td>\n",
       "    </tr>\n",
       "    <tr>\n",
       "      <th>em-foco-com-andreia-sadi</th>\n",
       "      <td>15</td>\n",
       "      <td>15</td>\n",
       "      <td>15</td>\n",
       "      <td>15</td>\n",
       "    </tr>\n",
       "    <tr>\n",
       "      <th>globonews-especial</th>\n",
       "      <td>14</td>\n",
       "      <td>14</td>\n",
       "      <td>14</td>\n",
       "      <td>14</td>\n",
       "    </tr>\n",
       "    <tr>\n",
       "      <th>globonews-painel</th>\n",
       "      <td>14</td>\n",
       "      <td>14</td>\n",
       "      <td>14</td>\n",
       "      <td>14</td>\n",
       "    </tr>\n",
       "    <tr>\n",
       "      <th>globonews-internacional</th>\n",
       "      <td>14</td>\n",
       "      <td>14</td>\n",
       "      <td>14</td>\n",
       "      <td>14</td>\n",
       "    </tr>\n",
       "    <tr>\n",
       "      <th>globonews-documento</th>\n",
       "      <td>12</td>\n",
       "      <td>12</td>\n",
       "      <td>12</td>\n",
       "      <td>12</td>\n",
       "    </tr>\n",
       "    <tr>\n",
       "      <th>jornal-globonews-edicao-das-16</th>\n",
       "      <td>12</td>\n",
       "      <td>12</td>\n",
       "      <td>12</td>\n",
       "      <td>12</td>\n",
       "    </tr>\n",
       "    <tr>\n",
       "      <th>roberto-davila</th>\n",
       "      <td>11</td>\n",
       "      <td>11</td>\n",
       "      <td>11</td>\n",
       "      <td>11</td>\n",
       "    </tr>\n",
       "    <tr>\n",
       "      <th>manhattan-connection</th>\n",
       "      <td>7</td>\n",
       "      <td>7</td>\n",
       "      <td>7</td>\n",
       "      <td>7</td>\n",
       "    </tr>\n",
       "    <tr>\n",
       "      <th>arquivo-n</th>\n",
       "      <td>7</td>\n",
       "      <td>7</td>\n",
       "      <td>7</td>\n",
       "      <td>7</td>\n",
       "    </tr>\n",
       "    <tr>\n",
       "      <th>sem-fronteiras</th>\n",
       "      <td>6</td>\n",
       "      <td>6</td>\n",
       "      <td>6</td>\n",
       "      <td>6</td>\n",
       "    </tr>\n",
       "    <tr>\n",
       "      <th>fernando-gabeira</th>\n",
       "      <td>6</td>\n",
       "      <td>6</td>\n",
       "      <td>6</td>\n",
       "      <td>6</td>\n",
       "    </tr>\n",
       "    <tr>\n",
       "      <th>entre-aspas</th>\n",
       "      <td>6</td>\n",
       "      <td>6</td>\n",
       "      <td>6</td>\n",
       "      <td>6</td>\n",
       "    </tr>\n",
       "    <tr>\n",
       "      <th>globonews-em-pauta</th>\n",
       "      <td>5</td>\n",
       "      <td>5</td>\n",
       "      <td>5</td>\n",
       "      <td>5</td>\n",
       "    </tr>\n",
       "    <tr>\n",
       "      <th>globonews-em-movimento</th>\n",
       "      <td>5</td>\n",
       "      <td>5</td>\n",
       "      <td>5</td>\n",
       "      <td>5</td>\n",
       "    </tr>\n",
       "    <tr>\n",
       "      <th>em-casa-com-nelson-motta</th>\n",
       "      <td>5</td>\n",
       "      <td>5</td>\n",
       "      <td>5</td>\n",
       "      <td>5</td>\n",
       "    </tr>\n",
       "    <tr>\n",
       "      <th>globonews-politica</th>\n",
       "      <td>4</td>\n",
       "      <td>4</td>\n",
       "      <td>4</td>\n",
       "      <td>4</td>\n",
       "    </tr>\n",
       "    <tr>\n",
       "      <th>noticia</th>\n",
       "      <td>2</td>\n",
       "      <td>2</td>\n",
       "      <td>2</td>\n",
       "      <td>2</td>\n",
       "    </tr>\n",
       "    <tr>\n",
       "      <th>globonews-literatura</th>\n",
       "      <td>1</td>\n",
       "      <td>1</td>\n",
       "      <td>1</td>\n",
       "      <td>1</td>\n",
       "    </tr>\n",
       "    <tr>\n",
       "      <th>converse-com-outras-ideias</th>\n",
       "      <td>1</td>\n",
       "      <td>1</td>\n",
       "      <td>1</td>\n",
       "      <td>1</td>\n",
       "    </tr>\n",
       "    <tr>\n",
       "      <th>video</th>\n",
       "      <td>1</td>\n",
       "      <td>1</td>\n",
       "      <td>1</td>\n",
       "      <td>1</td>\n",
       "    </tr>\n",
       "  </tbody>\n",
       "</table>\n",
       "</div>"
      ],
      "text/plain": [
       "                                 url  titulo  conteudo  url_origem\n",
       "sub_categoria                                                     \n",
       "fatos-e-versoes                   33      33        33          33\n",
       "mundo-sa                          32      32        32          32\n",
       "globonews-documentario            31      31        31          31\n",
       "jornal-globonews-edicao-das-18    30      30        30          30\n",
       "globonews-miriam-leitao           26      26        26          26\n",
       "via-brasil                        25      25        25          25\n",
       "dialogos-com-mario-sergio-conti   25      25        25          25\n",
       "conta-corrente                    24      24        24          24\n",
       "jornal-globonews                  24      24        24          24\n",
       "que-mundo-e-esse                  19      19        19          19\n",
       "milenio                           18      18        18          18\n",
       "jornal-das-dez                    18      18        18          18\n",
       "globonews-em-ponto                16      16        16          16\n",
       "jornal-globonews-edicao-das-10    16      16        16          16\n",
       "estudio-i                         15      15        15          15\n",
       "em-foco-com-andreia-sadi          15      15        15          15\n",
       "globonews-especial                14      14        14          14\n",
       "globonews-painel                  14      14        14          14\n",
       "globonews-internacional           14      14        14          14\n",
       "globonews-documento               12      12        12          12\n",
       "jornal-globonews-edicao-das-16    12      12        12          12\n",
       "roberto-davila                    11      11        11          11\n",
       "manhattan-connection               7       7         7           7\n",
       "arquivo-n                          7       7         7           7\n",
       "sem-fronteiras                     6       6         6           6\n",
       "fernando-gabeira                   6       6         6           6\n",
       "entre-aspas                        6       6         6           6\n",
       "globonews-em-pauta                 5       5         5           5\n",
       "globonews-em-movimento             5       5         5           5\n",
       "em-casa-com-nelson-motta           5       5         5           5\n",
       "globonews-politica                 4       4         4           4\n",
       "noticia                            2       2         2           2\n",
       "globonews-literatura               1       1         1           1\n",
       "converse-com-outras-ideias         1       1         1           1\n",
       "video                              1       1         1           1"
      ]
     },
     "execution_count": 29,
     "metadata": {},
     "output_type": "execute_result"
    }
   ],
   "source": [
    "df[df['url_origem'] == 'globonews'].groupby('sub_categoria').count().sort_values(by=['url_origem'], ascending=False)"
   ]
  },
  {
   "cell_type": "code",
   "execution_count": 30,
   "metadata": {},
   "outputs": [
    {
     "data": {
      "text/html": [
       "<div>\n",
       "<style scoped>\n",
       "    .dataframe tbody tr th:only-of-type {\n",
       "        vertical-align: middle;\n",
       "    }\n",
       "\n",
       "    .dataframe tbody tr th {\n",
       "        vertical-align: top;\n",
       "    }\n",
       "\n",
       "    .dataframe thead th {\n",
       "        text-align: right;\n",
       "    }\n",
       "</style>\n",
       "<table border=\"1\" class=\"dataframe\">\n",
       "  <thead>\n",
       "    <tr style=\"text-align: right;\">\n",
       "      <th></th>\n",
       "      <th>url</th>\n",
       "      <th>titulo</th>\n",
       "      <th>conteudo</th>\n",
       "      <th>url_origem</th>\n",
       "    </tr>\n",
       "    <tr>\n",
       "      <th>sub_categoria</th>\n",
       "      <th></th>\n",
       "      <th></th>\n",
       "      <th></th>\n",
       "      <th></th>\n",
       "    </tr>\n",
       "  </thead>\n",
       "  <tbody>\n",
       "    <tr>\n",
       "      <th>novelas</th>\n",
       "      <td>134</td>\n",
       "      <td>134</td>\n",
       "      <td>134</td>\n",
       "      <td>134</td>\n",
       "    </tr>\n",
       "    <tr>\n",
       "      <th>programas</th>\n",
       "      <td>94</td>\n",
       "      <td>94</td>\n",
       "      <td>94</td>\n",
       "      <td>94</td>\n",
       "    </tr>\n",
       "    <tr>\n",
       "      <th>receitas-gshow</th>\n",
       "      <td>55</td>\n",
       "      <td>55</td>\n",
       "      <td>55</td>\n",
       "      <td>55</td>\n",
       "    </tr>\n",
       "    <tr>\n",
       "      <th>Famosos</th>\n",
       "      <td>51</td>\n",
       "      <td>51</td>\n",
       "      <td>51</td>\n",
       "      <td>51</td>\n",
       "    </tr>\n",
       "    <tr>\n",
       "      <th>realities</th>\n",
       "      <td>48</td>\n",
       "      <td>48</td>\n",
       "      <td>48</td>\n",
       "      <td>48</td>\n",
       "    </tr>\n",
       "    <tr>\n",
       "      <th>series</th>\n",
       "      <td>32</td>\n",
       "      <td>32</td>\n",
       "      <td>32</td>\n",
       "      <td>32</td>\n",
       "    </tr>\n",
       "    <tr>\n",
       "      <th>RBS-TV-RS</th>\n",
       "      <td>17</td>\n",
       "      <td>17</td>\n",
       "      <td>17</td>\n",
       "      <td>17</td>\n",
       "    </tr>\n",
       "    <tr>\n",
       "      <th>moda-e-beleza</th>\n",
       "      <td>16</td>\n",
       "      <td>16</td>\n",
       "      <td>16</td>\n",
       "      <td>16</td>\n",
       "    </tr>\n",
       "    <tr>\n",
       "      <th>TV-Rio-Sul</th>\n",
       "      <td>12</td>\n",
       "      <td>12</td>\n",
       "      <td>12</td>\n",
       "      <td>12</td>\n",
       "    </tr>\n",
       "    <tr>\n",
       "      <th>humor</th>\n",
       "      <td>6</td>\n",
       "      <td>6</td>\n",
       "      <td>6</td>\n",
       "      <td>6</td>\n",
       "    </tr>\n",
       "    <tr>\n",
       "      <th>Rede-Bahia</th>\n",
       "      <td>5</td>\n",
       "      <td>5</td>\n",
       "      <td>5</td>\n",
       "      <td>5</td>\n",
       "    </tr>\n",
       "    <tr>\n",
       "      <th>TV-Diario</th>\n",
       "      <td>4</td>\n",
       "      <td>4</td>\n",
       "      <td>4</td>\n",
       "      <td>4</td>\n",
       "    </tr>\n",
       "    <tr>\n",
       "      <th>EPTV</th>\n",
       "      <td>4</td>\n",
       "      <td>4</td>\n",
       "      <td>4</td>\n",
       "      <td>4</td>\n",
       "    </tr>\n",
       "    <tr>\n",
       "      <th>horoscopo-etc</th>\n",
       "      <td>4</td>\n",
       "      <td>4</td>\n",
       "      <td>4</td>\n",
       "      <td>4</td>\n",
       "    </tr>\n",
       "    <tr>\n",
       "      <th>ep</th>\n",
       "      <td>3</td>\n",
       "      <td>3</td>\n",
       "      <td>3</td>\n",
       "      <td>3</td>\n",
       "    </tr>\n",
       "    <tr>\n",
       "      <th>Rede-Amazonica</th>\n",
       "      <td>3</td>\n",
       "      <td>3</td>\n",
       "      <td>3</td>\n",
       "      <td>3</td>\n",
       "    </tr>\n",
       "    <tr>\n",
       "      <th>receitas</th>\n",
       "      <td>2</td>\n",
       "      <td>2</td>\n",
       "      <td>2</td>\n",
       "      <td>2</td>\n",
       "    </tr>\n",
       "    <tr>\n",
       "      <th>TV-Sergipe</th>\n",
       "      <td>2</td>\n",
       "      <td>2</td>\n",
       "      <td>2</td>\n",
       "      <td>2</td>\n",
       "    </tr>\n",
       "    <tr>\n",
       "      <th>quiz</th>\n",
       "      <td>1</td>\n",
       "      <td>1</td>\n",
       "      <td>1</td>\n",
       "      <td>1</td>\n",
       "    </tr>\n",
       "    <tr>\n",
       "      <th>Bastidores</th>\n",
       "      <td>1</td>\n",
       "      <td>1</td>\n",
       "      <td>1</td>\n",
       "      <td>1</td>\n",
       "    </tr>\n",
       "    <tr>\n",
       "      <th>carnaval</th>\n",
       "      <td>1</td>\n",
       "      <td>1</td>\n",
       "      <td>1</td>\n",
       "      <td>1</td>\n",
       "    </tr>\n",
       "    <tr>\n",
       "      <th>TV-Verdes-Mares</th>\n",
       "      <td>1</td>\n",
       "      <td>1</td>\n",
       "      <td>1</td>\n",
       "      <td>1</td>\n",
       "    </tr>\n",
       "    <tr>\n",
       "      <th>TV-Morena</th>\n",
       "      <td>1</td>\n",
       "      <td>1</td>\n",
       "      <td>1</td>\n",
       "      <td>1</td>\n",
       "    </tr>\n",
       "    <tr>\n",
       "      <th>TV-Gazeta-ES</th>\n",
       "      <td>1</td>\n",
       "      <td>1</td>\n",
       "      <td>1</td>\n",
       "      <td>1</td>\n",
       "    </tr>\n",
       "    <tr>\n",
       "      <th>Musica</th>\n",
       "      <td>1</td>\n",
       "      <td>1</td>\n",
       "      <td>1</td>\n",
       "      <td>1</td>\n",
       "    </tr>\n",
       "    <tr>\n",
       "      <th>variedades</th>\n",
       "      <td>1</td>\n",
       "      <td>1</td>\n",
       "      <td>1</td>\n",
       "      <td>1</td>\n",
       "    </tr>\n",
       "  </tbody>\n",
       "</table>\n",
       "</div>"
      ],
      "text/plain": [
       "                 url  titulo  conteudo  url_origem\n",
       "sub_categoria                                     \n",
       "novelas          134     134       134         134\n",
       "programas         94      94        94          94\n",
       "receitas-gshow    55      55        55          55\n",
       "Famosos           51      51        51          51\n",
       "realities         48      48        48          48\n",
       "series            32      32        32          32\n",
       "RBS-TV-RS         17      17        17          17\n",
       "moda-e-beleza     16      16        16          16\n",
       "TV-Rio-Sul        12      12        12          12\n",
       "humor              6       6         6           6\n",
       "Rede-Bahia         5       5         5           5\n",
       "TV-Diario          4       4         4           4\n",
       "EPTV               4       4         4           4\n",
       "horoscopo-etc      4       4         4           4\n",
       "ep                 3       3         3           3\n",
       "Rede-Amazonica     3       3         3           3\n",
       "receitas           2       2         2           2\n",
       "TV-Sergipe         2       2         2           2\n",
       "quiz               1       1         1           1\n",
       "Bastidores         1       1         1           1\n",
       "carnaval           1       1         1           1\n",
       "TV-Verdes-Mares    1       1         1           1\n",
       "TV-Morena          1       1         1           1\n",
       "TV-Gazeta-ES       1       1         1           1\n",
       "Musica             1       1         1           1\n",
       "variedades         1       1         1           1"
      ]
     },
     "execution_count": 30,
     "metadata": {},
     "output_type": "execute_result"
    }
   ],
   "source": [
    "df[df['url_origem'] == 'gshow'].groupby('sub_categoria').count().sort_values(by=['url_origem'], ascending=False)"
   ]
  },
  {
   "cell_type": "code",
   "execution_count": 31,
   "metadata": {},
   "outputs": [],
   "source": [
    "df = df.sample(frac=1).reset_index(drop=True)"
   ]
  },
  {
   "cell_type": "code",
   "execution_count": 33,
   "metadata": {},
   "outputs": [
    {
     "data": {
      "text/plain": [
       "Index(['titulo', 'conteudo', 'url_origem', 'sub_categoria'], dtype='object')"
      ]
     },
     "execution_count": 33,
     "metadata": {},
     "output_type": "execute_result"
    }
   ],
   "source": [
    "df = df.drop(df.columns[[0]], axis=1)\n",
    "df.columns"
   ]
  },
  {
   "cell_type": "markdown",
   "metadata": {},
   "source": [
    "# pré-processamento nos textos de título"
   ]
  },
  {
   "cell_type": "code",
   "execution_count": 34,
   "metadata": {},
   "outputs": [],
   "source": [
    "from sklearn.feature_extraction.text import CountVectorizer\n",
    "vetorizador = CountVectorizer(lowercase = True, max_features = 100) "
   ]
  },
  {
   "cell_type": "code",
   "execution_count": 35,
   "metadata": {},
   "outputs": [],
   "source": [
    "bag_of_words = vetorizador.fit_transform(df[\"titulo\"])\n",
    "\n",
    "from sklearn.model_selection import train_test_split\n",
    "x_train, x_test, y_train, y_test = train_test_split(bag_of_words, df.url_origem, test_size=0.33, random_state=42)"
   ]
  },
  {
   "cell_type": "code",
   "execution_count": 36,
   "metadata": {},
   "outputs": [
    {
     "data": {
      "text/plain": [
       "0.9939393939393939"
      ]
     },
     "execution_count": 36,
     "metadata": {},
     "output_type": "execute_result"
    }
   ],
   "source": [
    "from sklearn.linear_model import LogisticRegression\n",
    "reg_log = LogisticRegression()\n",
    "\n",
    "reg_log.fit(x_train,y_train)\n",
    "reg_log.score(x_test,y_test)"
   ]
  },
  {
   "cell_type": "code",
   "execution_count": 37,
   "metadata": {},
   "outputs": [],
   "source": [
    "# data leakage"
   ]
  },
  {
   "cell_type": "code",
   "execution_count": 38,
   "metadata": {},
   "outputs": [
    {
     "data": {
      "text/plain": [
       "0.9939393939393939"
      ]
     },
     "execution_count": 38,
     "metadata": {},
     "output_type": "execute_result"
    }
   ],
   "source": [
    "vetorizador = CountVectorizer(lowercase = True, max_features = 5) \n",
    "bag_of_words = vetorizador.fit_transform(df[\"titulo\"])\n",
    "\n",
    "from sklearn.model_selection import train_test_split\n",
    "x_train, x_test, y_train, y_test = train_test_split(bag_of_words, df.url_origem, test_size=0.33, random_state=42)\n",
    "\n",
    "reg_log = LogisticRegression()\n",
    "\n",
    "reg_log.fit(x_train,y_train)\n",
    "reg_log.score(x_test,y_test)"
   ]
  },
  {
   "cell_type": "code",
   "execution_count": 39,
   "metadata": {},
   "outputs": [],
   "source": [
    "# poucas palavras estão extremamenrte relevantes para o texto\n",
    "# encontrando as palavras que fazem o data leakage"
   ]
  },
  {
   "cell_type": "code",
   "execution_count": 50,
   "metadata": {},
   "outputs": [],
   "source": [
    "import seaborn as sns\n",
    "import matplotlib.pyplot as plt\n",
    "\n",
    "import nltk\n",
    "from nltk import tokenize\n",
    "\n",
    "tokenizador = tokenize.WordPunctTokenizer()"
   ]
  },
  {
   "cell_type": "code",
   "execution_count": 51,
   "metadata": {},
   "outputs": [],
   "source": [
    "\n",
    "def pareto(df_n,coluna_texto,url_origem = 'all',num_bar = 10):\n",
    "    \n",
    "    if str(url_origem) == 'all':\n",
    "        cor = 'grey'\n",
    "    elif str(url_origem) == 'globoesporte':\n",
    "        cor = 'green'\n",
    "    elif str(url_origem) == 'globonews':\n",
    "        cor = 'red'\n",
    "    else:\n",
    "        cor  = 'orange'\n",
    "    \n",
    "    if str(url_origem) != 'all':\n",
    "        df_n = df[df['url_origem'] == url_origem]\n",
    "    \n",
    "    palavras = ' '.join([texto for texto in df_n[coluna_texto]])\n",
    "    frequencia = nltk.FreqDist(tokenizador.tokenize(palavras))\n",
    "    df_frequencia = pd.DataFrame({\"Palavra\": list(frequencia.keys()),\n",
    "                             \"Frequência\": list(frequencia.values())})\n",
    "    df_frequencia = df_frequencia.nlargest(columns = \"Frequência\", n = num_bar)\n",
    "    plt.figure(figsize=(20,8))\n",
    "    ax = sns.barplot(data = df_frequencia, x= \"Palavra\", y = \"Frequência\", color = cor)\n",
    "    ax.set(ylabel = \"Contagem\")\n",
    "    plt.show()"
   ]
  },
  {
   "cell_type": "code",
   "execution_count": 52,
   "metadata": {},
   "outputs": [
    {
     "data": {
      "image/png": "[encoded data removed]",
      "text/plain": [
       "<Figure size 1440x576 with 1 Axes>"
      ]
     },
     "metadata": {
      "needs_background": "light"
     },
     "output_type": "display_data"
    }
   ],
   "source": [
    "pareto(df,'titulo')"
   ]
  },
  {
   "cell_type": "code",
   "execution_count": 53,
   "metadata": {},
   "outputs": [
    {
     "data": {
      "image/png": "[encoded data removed]",
      "text/plain": [
       "<Figure size 1440x576 with 1 Axes>"
      ]
     },
     "metadata": {
      "needs_background": "light"
     },
     "output_type": "display_data"
    }
   ],
   "source": [
    "pareto(df,'titulo','globonews')"
   ]
  },
  {
   "cell_type": "code",
   "execution_count": 54,
   "metadata": {},
   "outputs": [
    {
     "data": {
      "image/png": "[encoded data removed]",
      "text/plain": [
       "<Figure size 1440x576 with 1 Axes>"
      ]
     },
     "metadata": {
      "needs_background": "light"
     },
     "output_type": "display_data"
    }
   ],
   "source": [
    "pareto(df,'titulo','gshow')"
   ]
  },
  {
   "cell_type": "code",
   "execution_count": 55,
   "metadata": {},
   "outputs": [
    {
     "data": {
      "image/png": "[encoded data removed]",
      "text/plain": [
       "<Figure size 1440x576 with 1 Axes>"
      ]
     },
     "metadata": {
      "needs_background": "light"
     },
     "output_type": "display_data"
    }
   ],
   "source": [
    "pareto(df,'titulo','globoesporte')"
   ]
  },
  {
   "cell_type": "code",
   "execution_count": 65,
   "metadata": {},
   "outputs": [],
   "source": [
    "# as palavras ge estão em todas os textos de esporte, assim como facebooktwitterwhatssapp pra noticias, \n",
    "# por isso foi tão fácil predizer o modelo  "
   ]
  },
  {
   "cell_type": "code",
   "execution_count": 73,
   "metadata": {},
   "outputs": [
    {
     "name": "stderr",
     "output_type": "stream",
     "text": [
      "[nltk_data] Downloading package stopwords to\n",
      "[nltk_data]     C:\\Users\\Casa\\AppData\\Roaming\\nltk_data...\n",
      "[nltk_data]   Package stopwords is already up-to-date!\n"
     ]
    }
   ],
   "source": [
    "# remove stop words\n",
    "nltk.download('stopwords')\n",
    "stop_words = nltk.corpus.stopwords.words(\"portuguese\")\n",
    "\n",
    "# remove pontuações\n",
    "from string import punctuation\n",
    "pontuações = []\n",
    "for ponto in punctuation:\n",
    "    pontuações.append(ponto)\n",
    "    \n",
    "# separa as palavras considerando os pontos\n",
    "tokenizador = tokenize.WordPunctTokenizer()\n",
    "\n",
    "# palavras encontradas no dataset que influenciam muito no modelo\n",
    "dicionário = ['facebooktwitterwhatsapp', 'ge','s']\n",
    "\n",
    "filtro = pontuações + stop_words + dicionário\n",
    "\n",
    "# remove acentuações \n",
    "import unidecode\n",
    "filtro = [unidecode.unidecode(texto) for texto in filtro]\n",
    "\n",
    "texto_processado = []\n",
    "for titulo in df.titulo:\n",
    "    palavras_relevantes = []\n",
    "    titulo_tokenizado = tokenizador.tokenize(titulo)\n",
    "    for palavra in titulo_tokenizado:\n",
    "        \n",
    "        # remove a acentuação da palavra\n",
    "        palavra = unidecode.unidecode(palavra)\n",
    "        \n",
    "        \n",
    "        if palavra not in filtro:\n",
    "            palavras_relevantes.append(palavra)\n",
    "    texto_processado.append(' '.join(palavras_relevantes))\n",
    "\n",
    "df['titulo_processado'] = texto_processado"
   ]
  },
  {
   "cell_type": "code",
   "execution_count": 66,
   "metadata": {},
   "outputs": [
    {
     "data": {
      "image/png": "[encoded data removed]",
      "text/plain": [
       "<Figure size 1440x576 with 1 Axes>"
      ]
     },
     "metadata": {
      "needs_background": "light"
     },
     "output_type": "display_data"
    }
   ],
   "source": [
    "pareto(df,'titulo_processado')"
   ]
  },
  {
   "cell_type": "code",
   "execution_count": 67,
   "metadata": {},
   "outputs": [
    {
     "data": {
      "image/png": "[encoded data removed]",
      "text/plain": [
       "<Figure size 1440x576 with 1 Axes>"
      ]
     },
     "metadata": {
      "needs_background": "light"
     },
     "output_type": "display_data"
    }
   ],
   "source": [
    "pareto(df,'titulo_processado','gshow')"
   ]
  },
  {
   "cell_type": "code",
   "execution_count": 68,
   "metadata": {},
   "outputs": [
    {
     "data": {
      "image/png": "[encoded data removed]",
      "text/plain": [
       "<Figure size 1440x576 with 1 Axes>"
      ]
     },
     "metadata": {
      "needs_background": "light"
     },
     "output_type": "display_data"
    }
   ],
   "source": [
    "pareto(df,'titulo_processado','globonews')"
   ]
  },
  {
   "cell_type": "code",
   "execution_count": 69,
   "metadata": {},
   "outputs": [
    {
     "data": {
      "image/png": "[encoded data removed]",
      "text/plain": [
       "<Figure size 1440x576 with 1 Axes>"
      ]
     },
     "metadata": {
      "needs_background": "light"
     },
     "output_type": "display_data"
    }
   ],
   "source": [
    "pareto(df,'titulo_processado','globoesporte')"
   ]
  },
  {
   "cell_type": "code",
   "execution_count": 76,
   "metadata": {},
   "outputs": [
    {
     "data": {
      "text/plain": [
       "0.8383838383838383"
      ]
     },
     "execution_count": 76,
     "metadata": {},
     "output_type": "execute_result"
    }
   ],
   "source": [
    "vetorizador = CountVectorizer(lowercase = True, max_features = 100) \n",
    "bag_of_words = vetorizador.fit_transform(df[\"titulo_processado\"])\n",
    "\n",
    "from sklearn.model_selection import train_test_split\n",
    "x_train, x_test, y_train, y_test = train_test_split(bag_of_words, df.url_origem, test_size=0.33, random_state=42)\n",
    "reg_log = LogisticRegression()\n",
    "\n",
    "reg_log.fit(x_train,y_train)\n",
    "reg_log.score(x_test,y_test)"
   ]
  },
  {
   "cell_type": "code",
   "execution_count": 77,
   "metadata": {},
   "outputs": [
    {
     "name": "stderr",
     "output_type": "stream",
     "text": [
      "[nltk_data] Downloading package rslp to\n",
      "[nltk_data]     C:\\Users\\Casa\\AppData\\Roaming\\nltk_data...\n",
      "[nltk_data]   Package rslp is already up-to-date!\n"
     ]
    }
   ],
   "source": [
    "# aplicar o stem\n",
    "\n",
    "nltk.download('rslp')\n",
    "stemmer = nltk.RSLPStemmer()"
   ]
  },
  {
   "cell_type": "code",
   "execution_count": 78,
   "metadata": {},
   "outputs": [],
   "source": [
    "texto_processado = []\n",
    "for titulo in df.titulo:\n",
    "    palavras_relevantes = []\n",
    "    titulo_tokenizado = tokenizador.tokenize(titulo)\n",
    "    for palavra in titulo_tokenizado:\n",
    "        \n",
    "        # remove a acentuação da palavra\n",
    "       # palavra = unidecode.unidecode(palavra)\n",
    "        \n",
    "        \n",
    "        if palavra not in filtro:\n",
    "            palavras_relevantes.append(stemmer.stem(palavra))\n",
    "    texto_processado.append(' '.join(palavras_relevantes))\n",
    "\n",
    "df['titulo_processado_stem'] = texto_processado"
   ]
  },
  {
   "cell_type": "code",
   "execution_count": 80,
   "metadata": {},
   "outputs": [
    {
     "data": {
      "text/plain": [
       "0.8404040404040404"
      ]
     },
     "execution_count": 80,
     "metadata": {},
     "output_type": "execute_result"
    }
   ],
   "source": [
    "vetorizador = CountVectorizer(lowercase = True, max_features = 100) \n",
    "bag_of_words = vetorizador.fit_transform(df[\"titulo_processado_stem\"])\n",
    "\n",
    "from sklearn.model_selection import train_test_split\n",
    "x_train, x_test, y_train, y_test = train_test_split(bag_of_words, df.url_origem, test_size=0.33, random_state=42)\n",
    "\n",
    "reg_log = LogisticRegression()\n",
    "\n",
    "reg_log.fit(x_train,y_train)\n",
    "reg_log.score(x_test,y_test)"
   ]
  },
  {
   "cell_type": "code",
   "execution_count": 81,
   "metadata": {},
   "outputs": [
    {
     "data": {
      "image/png": "[encoded data removed]",
      "text/plain": [
       "<Figure size 1440x576 with 1 Axes>"
      ]
     },
     "metadata": {
      "needs_background": "light"
     },
     "output_type": "display_data"
    }
   ],
   "source": [
    "pareto(df,'titulo_processado_stem','gshow')"
   ]
  },
  {
   "cell_type": "code",
   "execution_count": 82,
   "metadata": {},
   "outputs": [
    {
     "data": {
      "image/png": "[encoded data removed]",
      "text/plain": [
       "<Figure size 1440x576 with 1 Axes>"
      ]
     },
     "metadata": {
      "needs_background": "light"
     },
     "output_type": "display_data"
    }
   ],
   "source": [
    "pareto(df,'titulo_processado_stem','globonews')"
   ]
  },
  {
   "cell_type": "code",
   "execution_count": 83,
   "metadata": {},
   "outputs": [
    {
     "data": {
      "image/png": "[encoded data removed]",
      "text/plain": [
       "<Figure size 1440x576 with 1 Axes>"
      ]
     },
     "metadata": {
      "needs_background": "light"
     },
     "output_type": "display_data"
    }
   ],
   "source": [
    "pareto(df,'titulo_processado_stem','globoesporte')"
   ]
  },
  {
   "cell_type": "code",
   "execution_count": null,
   "metadata": {},
   "outputs": [],
   "source": []
  }
 ],
 "metadata": {
  "kernelspec": {
   "display_name": "Python 3",
   "language": "python",
   "name": "python3"
  },
  "language_info": {
   "codemirror_mode": {
    "name": "ipython",
    "version": 3
   },
   "file_extension": ".py",
   "mimetype": "text/x-python",
   "name": "python",
   "nbconvert_exporter": "python",
   "pygments_lexer": "ipython3",
   "version": "3.8.3"
  }
 },
 "nbformat": 4,
 "nbformat_minor": 2
}
